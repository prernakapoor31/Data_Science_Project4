{
  "nbformat": 4,
  "nbformat_minor": 0,
  "metadata": {
    "colab": {
      "name": "Data_Modeling.ipynb",
      "provenance": []
    },
    "kernelspec": {
      "name": "python3",
      "display_name": "Python 3"
    },
    "language_info": {
      "name": "python"
    }
  },
  "cells": [
    {
      "cell_type": "markdown",
      "source": [
        "#Sentiment Analysis of Restaurant Reviews\n",
        "In this notebook we will build models. Data Extraction, Exploratory Data Analysis and Data preprocessing is done in previous notebooks."
      ],
      "metadata": {
        "id": "U9b1XG5eAy_J"
      }
    },
    {
      "cell_type": "code",
      "execution_count": null,
      "metadata": {
        "id": "-LDosjzcWc7I"
      },
      "outputs": [],
      "source": [
        "import pandas as pd\n",
        "import numpy as np\n",
        "import matplotlib.pyplot as plt\n",
        "import warnings\n",
        "warnings.filterwarnings('ignore')\n",
        "\n",
        "yelp_data = pd.read_csv('yelp_data_sentiment.csv')"
      ]
    },
    {
      "cell_type": "code",
      "source": [
        "yelp_data.head()"
      ],
      "metadata": {
        "colab": {
          "base_uri": "https://localhost:8080/",
          "height": 629
        },
        "id": "wY8vUnCrXa_A",
        "outputId": "05f04a5f-db59-456e-eaf5-bf6a9c1a7056"
      },
      "execution_count": null,
      "outputs": [
        {
          "output_type": "execute_result",
          "data": {
            "text/plain": [
              "                    Name                                             Review  \\\n",
              "0  Morris Park Bake Shop  'The chocolate cups are amazing! Have been eat...   \n",
              "1  Morris Park Bake Shop  'Morris Park Bake Shop has become my go to spo...   \n",
              "2  Morris Park Bake Shop  'I thought the cookies and biscotti were prett...   \n",
              "3  Morris Park Bake Shop  'Guys.... so Im a big time biscotti connoisseu...   \n",
              "4  Morris Park Bake Shop  'I had a craving for a special type of cake wi...   \n",
              "\n",
              "   Polarity          Sentiment  Positive_Words_P  chocol  cup  amaz  eat  \\\n",
              "0  0.500000           Positive          0.222222     0.0  0.0   0.0  0.0   \n",
              "1  0.338889  Slightly Positive          0.206897     0.0  0.0   0.0  0.0   \n",
              "2  0.314583  Slightly Positive          0.130435     0.0  0.0   0.0  0.0   \n",
              "3  0.238068  Slightly Positive          0.127660     0.0  0.0   0.0  0.0   \n",
              "4  0.314643  Slightly Positive          0.218750     0.0  0.0   0.0  0.0   \n",
              "\n",
              "       year  ...  linguin  linguini  jimmi  player  juliana  pool tabl  \\\n",
              "0  0.000000  ...      0.0       0.0    0.0     0.0      0.0        0.0   \n",
              "1  0.000000  ...      0.0       0.0    0.0     0.0      0.0        0.0   \n",
              "2  0.160339  ...      0.0       0.0    0.0     0.0      0.0        0.0   \n",
              "3  0.000000  ...      0.0       0.0    0.0     0.0      0.0        0.0   \n",
              "4  0.000000  ...      0.0       0.0    0.0     0.0      0.0        0.0   \n",
              "\n",
              "      castl  falafel  paella  white castl  \n",
              "0  0.000000      0.0     0.0          0.0  \n",
              "1  0.000000      0.0     0.0          0.0  \n",
              "2  0.000000      0.0     0.0          0.0  \n",
              "3  0.149255      0.0     0.0          0.0  \n",
              "4  0.000000      0.0     0.0          0.0  \n",
              "\n",
              "[5 rows x 1761 columns]"
            ],
            "text/html": [
              "\n",
              "  <div id=\"df-5dc13f39-51a6-4404-a8b5-9c41371eb5d6\">\n",
              "    <div class=\"colab-df-container\">\n",
              "      <div>\n",
              "<style scoped>\n",
              "    .dataframe tbody tr th:only-of-type {\n",
              "        vertical-align: middle;\n",
              "    }\n",
              "\n",
              "    .dataframe tbody tr th {\n",
              "        vertical-align: top;\n",
              "    }\n",
              "\n",
              "    .dataframe thead th {\n",
              "        text-align: right;\n",
              "    }\n",
              "</style>\n",
              "<table border=\"1\" class=\"dataframe\">\n",
              "  <thead>\n",
              "    <tr style=\"text-align: right;\">\n",
              "      <th></th>\n",
              "      <th>Name</th>\n",
              "      <th>Review</th>\n",
              "      <th>Polarity</th>\n",
              "      <th>Sentiment</th>\n",
              "      <th>Positive_Words_P</th>\n",
              "      <th>chocol</th>\n",
              "      <th>cup</th>\n",
              "      <th>amaz</th>\n",
              "      <th>eat</th>\n",
              "      <th>year</th>\n",
              "      <th>...</th>\n",
              "      <th>linguin</th>\n",
              "      <th>linguini</th>\n",
              "      <th>jimmi</th>\n",
              "      <th>player</th>\n",
              "      <th>juliana</th>\n",
              "      <th>pool tabl</th>\n",
              "      <th>castl</th>\n",
              "      <th>falafel</th>\n",
              "      <th>paella</th>\n",
              "      <th>white castl</th>\n",
              "    </tr>\n",
              "  </thead>\n",
              "  <tbody>\n",
              "    <tr>\n",
              "      <th>0</th>\n",
              "      <td>Morris Park Bake Shop</td>\n",
              "      <td>'The chocolate cups are amazing! Have been eat...</td>\n",
              "      <td>0.500000</td>\n",
              "      <td>Positive</td>\n",
              "      <td>0.222222</td>\n",
              "      <td>0.0</td>\n",
              "      <td>0.0</td>\n",
              "      <td>0.0</td>\n",
              "      <td>0.0</td>\n",
              "      <td>0.000000</td>\n",
              "      <td>...</td>\n",
              "      <td>0.0</td>\n",
              "      <td>0.0</td>\n",
              "      <td>0.0</td>\n",
              "      <td>0.0</td>\n",
              "      <td>0.0</td>\n",
              "      <td>0.0</td>\n",
              "      <td>0.000000</td>\n",
              "      <td>0.0</td>\n",
              "      <td>0.0</td>\n",
              "      <td>0.0</td>\n",
              "    </tr>\n",
              "    <tr>\n",
              "      <th>1</th>\n",
              "      <td>Morris Park Bake Shop</td>\n",
              "      <td>'Morris Park Bake Shop has become my go to spo...</td>\n",
              "      <td>0.338889</td>\n",
              "      <td>Slightly Positive</td>\n",
              "      <td>0.206897</td>\n",
              "      <td>0.0</td>\n",
              "      <td>0.0</td>\n",
              "      <td>0.0</td>\n",
              "      <td>0.0</td>\n",
              "      <td>0.000000</td>\n",
              "      <td>...</td>\n",
              "      <td>0.0</td>\n",
              "      <td>0.0</td>\n",
              "      <td>0.0</td>\n",
              "      <td>0.0</td>\n",
              "      <td>0.0</td>\n",
              "      <td>0.0</td>\n",
              "      <td>0.000000</td>\n",
              "      <td>0.0</td>\n",
              "      <td>0.0</td>\n",
              "      <td>0.0</td>\n",
              "    </tr>\n",
              "    <tr>\n",
              "      <th>2</th>\n",
              "      <td>Morris Park Bake Shop</td>\n",
              "      <td>'I thought the cookies and biscotti were prett...</td>\n",
              "      <td>0.314583</td>\n",
              "      <td>Slightly Positive</td>\n",
              "      <td>0.130435</td>\n",
              "      <td>0.0</td>\n",
              "      <td>0.0</td>\n",
              "      <td>0.0</td>\n",
              "      <td>0.0</td>\n",
              "      <td>0.160339</td>\n",
              "      <td>...</td>\n",
              "      <td>0.0</td>\n",
              "      <td>0.0</td>\n",
              "      <td>0.0</td>\n",
              "      <td>0.0</td>\n",
              "      <td>0.0</td>\n",
              "      <td>0.0</td>\n",
              "      <td>0.000000</td>\n",
              "      <td>0.0</td>\n",
              "      <td>0.0</td>\n",
              "      <td>0.0</td>\n",
              "    </tr>\n",
              "    <tr>\n",
              "      <th>3</th>\n",
              "      <td>Morris Park Bake Shop</td>\n",
              "      <td>'Guys.... so Im a big time biscotti connoisseu...</td>\n",
              "      <td>0.238068</td>\n",
              "      <td>Slightly Positive</td>\n",
              "      <td>0.127660</td>\n",
              "      <td>0.0</td>\n",
              "      <td>0.0</td>\n",
              "      <td>0.0</td>\n",
              "      <td>0.0</td>\n",
              "      <td>0.000000</td>\n",
              "      <td>...</td>\n",
              "      <td>0.0</td>\n",
              "      <td>0.0</td>\n",
              "      <td>0.0</td>\n",
              "      <td>0.0</td>\n",
              "      <td>0.0</td>\n",
              "      <td>0.0</td>\n",
              "      <td>0.149255</td>\n",
              "      <td>0.0</td>\n",
              "      <td>0.0</td>\n",
              "      <td>0.0</td>\n",
              "    </tr>\n",
              "    <tr>\n",
              "      <th>4</th>\n",
              "      <td>Morris Park Bake Shop</td>\n",
              "      <td>'I had a craving for a special type of cake wi...</td>\n",
              "      <td>0.314643</td>\n",
              "      <td>Slightly Positive</td>\n",
              "      <td>0.218750</td>\n",
              "      <td>0.0</td>\n",
              "      <td>0.0</td>\n",
              "      <td>0.0</td>\n",
              "      <td>0.0</td>\n",
              "      <td>0.000000</td>\n",
              "      <td>...</td>\n",
              "      <td>0.0</td>\n",
              "      <td>0.0</td>\n",
              "      <td>0.0</td>\n",
              "      <td>0.0</td>\n",
              "      <td>0.0</td>\n",
              "      <td>0.0</td>\n",
              "      <td>0.000000</td>\n",
              "      <td>0.0</td>\n",
              "      <td>0.0</td>\n",
              "      <td>0.0</td>\n",
              "    </tr>\n",
              "  </tbody>\n",
              "</table>\n",
              "<p>5 rows × 1761 columns</p>\n",
              "</div>\n",
              "      <button class=\"colab-df-convert\" onclick=\"convertToInteractive('df-5dc13f39-51a6-4404-a8b5-9c41371eb5d6')\"\n",
              "              title=\"Convert this dataframe to an interactive table.\"\n",
              "              style=\"display:none;\">\n",
              "        \n",
              "  <svg xmlns=\"http://www.w3.org/2000/svg\" height=\"24px\"viewBox=\"0 0 24 24\"\n",
              "       width=\"24px\">\n",
              "    <path d=\"M0 0h24v24H0V0z\" fill=\"none\"/>\n",
              "    <path d=\"M18.56 5.44l.94 2.06.94-2.06 2.06-.94-2.06-.94-.94-2.06-.94 2.06-2.06.94zm-11 1L8.5 8.5l.94-2.06 2.06-.94-2.06-.94L8.5 2.5l-.94 2.06-2.06.94zm10 10l.94 2.06.94-2.06 2.06-.94-2.06-.94-.94-2.06-.94 2.06-2.06.94z\"/><path d=\"M17.41 7.96l-1.37-1.37c-.4-.4-.92-.59-1.43-.59-.52 0-1.04.2-1.43.59L10.3 9.45l-7.72 7.72c-.78.78-.78 2.05 0 2.83L4 21.41c.39.39.9.59 1.41.59.51 0 1.02-.2 1.41-.59l7.78-7.78 2.81-2.81c.8-.78.8-2.07 0-2.86zM5.41 20L4 18.59l7.72-7.72 1.47 1.35L5.41 20z\"/>\n",
              "  </svg>\n",
              "      </button>\n",
              "      \n",
              "  <style>\n",
              "    .colab-df-container {\n",
              "      display:flex;\n",
              "      flex-wrap:wrap;\n",
              "      gap: 12px;\n",
              "    }\n",
              "\n",
              "    .colab-df-convert {\n",
              "      background-color: #E8F0FE;\n",
              "      border: none;\n",
              "      border-radius: 50%;\n",
              "      cursor: pointer;\n",
              "      display: none;\n",
              "      fill: #1967D2;\n",
              "      height: 32px;\n",
              "      padding: 0 0 0 0;\n",
              "      width: 32px;\n",
              "    }\n",
              "\n",
              "    .colab-df-convert:hover {\n",
              "      background-color: #E2EBFA;\n",
              "      box-shadow: 0px 1px 2px rgba(60, 64, 67, 0.3), 0px 1px 3px 1px rgba(60, 64, 67, 0.15);\n",
              "      fill: #174EA6;\n",
              "    }\n",
              "\n",
              "    [theme=dark] .colab-df-convert {\n",
              "      background-color: #3B4455;\n",
              "      fill: #D2E3FC;\n",
              "    }\n",
              "\n",
              "    [theme=dark] .colab-df-convert:hover {\n",
              "      background-color: #434B5C;\n",
              "      box-shadow: 0px 1px 3px 1px rgba(0, 0, 0, 0.15);\n",
              "      filter: drop-shadow(0px 1px 2px rgba(0, 0, 0, 0.3));\n",
              "      fill: #FFFFFF;\n",
              "    }\n",
              "  </style>\n",
              "\n",
              "      <script>\n",
              "        const buttonEl =\n",
              "          document.querySelector('#df-5dc13f39-51a6-4404-a8b5-9c41371eb5d6 button.colab-df-convert');\n",
              "        buttonEl.style.display =\n",
              "          google.colab.kernel.accessAllowed ? 'block' : 'none';\n",
              "\n",
              "        async function convertToInteractive(key) {\n",
              "          const element = document.querySelector('#df-5dc13f39-51a6-4404-a8b5-9c41371eb5d6');\n",
              "          const dataTable =\n",
              "            await google.colab.kernel.invokeFunction('convertToInteractive',\n",
              "                                                     [key], {});\n",
              "          if (!dataTable) return;\n",
              "\n",
              "          const docLinkHtml = 'Like what you see? Visit the ' +\n",
              "            '<a target=\"_blank\" href=https://colab.research.google.com/notebooks/data_table.ipynb>data table notebook</a>'\n",
              "            + ' to learn more about interactive tables.';\n",
              "          element.innerHTML = '';\n",
              "          dataTable['output_type'] = 'display_data';\n",
              "          await google.colab.output.renderOutput(dataTable, element);\n",
              "          const docLink = document.createElement('div');\n",
              "          docLink.innerHTML = docLinkHtml;\n",
              "          element.appendChild(docLink);\n",
              "        }\n",
              "      </script>\n",
              "    </div>\n",
              "  </div>\n",
              "  "
            ]
          },
          "metadata": {},
          "execution_count": 17
        }
      ]
    },
    {
      "cell_type": "code",
      "source": [
        "yelp_data.shape"
      ],
      "metadata": {
        "colab": {
          "base_uri": "https://localhost:8080/"
        },
        "id": "SA1O6sHqabPw",
        "outputId": "bb4e83e2-52ec-413c-b532-70486859d155"
      },
      "execution_count": null,
      "outputs": [
        {
          "output_type": "execute_result",
          "data": {
            "text/plain": [
              "(10937, 1761)"
            ]
          },
          "metadata": {},
          "execution_count": 18
        }
      ]
    },
    {
      "cell_type": "code",
      "source": [
        "yelp_data['Name'].value_counts().to_frame()[:30]"
      ],
      "metadata": {
        "colab": {
          "base_uri": "https://localhost:8080/",
          "height": 990
        },
        "id": "nix10Us7YeZE",
        "outputId": "1e32794c-36ce-47db-96bf-afced0250a8a"
      },
      "execution_count": null,
      "outputs": [
        {
          "output_type": "execute_result",
          "data": {
            "text/plain": [
              "                                 Name\n",
              "White Castle                      187\n",
              "Colonnade Diner                   140\n",
              "Juliana's                         140\n",
              "Shun Lee Palace                   140\n",
              "Maggie's Place                    140\n",
              "Upstate Craft Beer & Oyster Bar   140\n",
              "Cherry Tavern                     136\n",
              "New York Athletic Club            130\n",
              "The Red Flame                     120\n",
              "McDonald's                        118\n",
              "Burger King                       105\n",
              "Princeton Club                    100\n",
              "Jahn's                             70\n",
              "V & T Pizzeria & Restaurant        70\n",
              "Il Cortile Restaurant              70\n",
              "Cafe Riazor                        70\n",
              "Yankee Tavern                      70\n",
              "Barbetta                           70\n",
              "Keats Bar                          70\n",
              "La Grenouille                      70\n",
              "Dorrian's Red Hand                 70\n",
              "Raoul's Restaurant                 70\n",
              "Corner Bistro                      70\n",
              "Brooks 1890 Restaurant             70\n",
              "Joe Allen                          70\n",
              "Blarney Stone                      70\n",
              "Frost Restaurant                   70\n",
              "Killarney Rose                     70\n",
              "Baby Bo's Cantina                  70\n",
              "Tio Pepe                           70"
            ],
            "text/html": [
              "\n",
              "  <div id=\"df-e85bf8af-71f3-4043-a5c6-ec92f24dae27\">\n",
              "    <div class=\"colab-df-container\">\n",
              "      <div>\n",
              "<style scoped>\n",
              "    .dataframe tbody tr th:only-of-type {\n",
              "        vertical-align: middle;\n",
              "    }\n",
              "\n",
              "    .dataframe tbody tr th {\n",
              "        vertical-align: top;\n",
              "    }\n",
              "\n",
              "    .dataframe thead th {\n",
              "        text-align: right;\n",
              "    }\n",
              "</style>\n",
              "<table border=\"1\" class=\"dataframe\">\n",
              "  <thead>\n",
              "    <tr style=\"text-align: right;\">\n",
              "      <th></th>\n",
              "      <th>Name</th>\n",
              "    </tr>\n",
              "  </thead>\n",
              "  <tbody>\n",
              "    <tr>\n",
              "      <th>White Castle</th>\n",
              "      <td>187</td>\n",
              "    </tr>\n",
              "    <tr>\n",
              "      <th>Colonnade Diner</th>\n",
              "      <td>140</td>\n",
              "    </tr>\n",
              "    <tr>\n",
              "      <th>Juliana's</th>\n",
              "      <td>140</td>\n",
              "    </tr>\n",
              "    <tr>\n",
              "      <th>Shun Lee Palace</th>\n",
              "      <td>140</td>\n",
              "    </tr>\n",
              "    <tr>\n",
              "      <th>Maggie's Place</th>\n",
              "      <td>140</td>\n",
              "    </tr>\n",
              "    <tr>\n",
              "      <th>Upstate Craft Beer &amp; Oyster Bar</th>\n",
              "      <td>140</td>\n",
              "    </tr>\n",
              "    <tr>\n",
              "      <th>Cherry Tavern</th>\n",
              "      <td>136</td>\n",
              "    </tr>\n",
              "    <tr>\n",
              "      <th>New York Athletic Club</th>\n",
              "      <td>130</td>\n",
              "    </tr>\n",
              "    <tr>\n",
              "      <th>The Red Flame</th>\n",
              "      <td>120</td>\n",
              "    </tr>\n",
              "    <tr>\n",
              "      <th>McDonald's</th>\n",
              "      <td>118</td>\n",
              "    </tr>\n",
              "    <tr>\n",
              "      <th>Burger King</th>\n",
              "      <td>105</td>\n",
              "    </tr>\n",
              "    <tr>\n",
              "      <th>Princeton Club</th>\n",
              "      <td>100</td>\n",
              "    </tr>\n",
              "    <tr>\n",
              "      <th>Jahn's</th>\n",
              "      <td>70</td>\n",
              "    </tr>\n",
              "    <tr>\n",
              "      <th>V &amp; T Pizzeria &amp; Restaurant</th>\n",
              "      <td>70</td>\n",
              "    </tr>\n",
              "    <tr>\n",
              "      <th>Il Cortile Restaurant</th>\n",
              "      <td>70</td>\n",
              "    </tr>\n",
              "    <tr>\n",
              "      <th>Cafe Riazor</th>\n",
              "      <td>70</td>\n",
              "    </tr>\n",
              "    <tr>\n",
              "      <th>Yankee Tavern</th>\n",
              "      <td>70</td>\n",
              "    </tr>\n",
              "    <tr>\n",
              "      <th>Barbetta</th>\n",
              "      <td>70</td>\n",
              "    </tr>\n",
              "    <tr>\n",
              "      <th>Keats Bar</th>\n",
              "      <td>70</td>\n",
              "    </tr>\n",
              "    <tr>\n",
              "      <th>La Grenouille</th>\n",
              "      <td>70</td>\n",
              "    </tr>\n",
              "    <tr>\n",
              "      <th>Dorrian's Red Hand</th>\n",
              "      <td>70</td>\n",
              "    </tr>\n",
              "    <tr>\n",
              "      <th>Raoul's Restaurant</th>\n",
              "      <td>70</td>\n",
              "    </tr>\n",
              "    <tr>\n",
              "      <th>Corner Bistro</th>\n",
              "      <td>70</td>\n",
              "    </tr>\n",
              "    <tr>\n",
              "      <th>Brooks 1890 Restaurant</th>\n",
              "      <td>70</td>\n",
              "    </tr>\n",
              "    <tr>\n",
              "      <th>Joe Allen</th>\n",
              "      <td>70</td>\n",
              "    </tr>\n",
              "    <tr>\n",
              "      <th>Blarney Stone</th>\n",
              "      <td>70</td>\n",
              "    </tr>\n",
              "    <tr>\n",
              "      <th>Frost Restaurant</th>\n",
              "      <td>70</td>\n",
              "    </tr>\n",
              "    <tr>\n",
              "      <th>Killarney Rose</th>\n",
              "      <td>70</td>\n",
              "    </tr>\n",
              "    <tr>\n",
              "      <th>Baby Bo's Cantina</th>\n",
              "      <td>70</td>\n",
              "    </tr>\n",
              "    <tr>\n",
              "      <th>Tio Pepe</th>\n",
              "      <td>70</td>\n",
              "    </tr>\n",
              "  </tbody>\n",
              "</table>\n",
              "</div>\n",
              "      <button class=\"colab-df-convert\" onclick=\"convertToInteractive('df-e85bf8af-71f3-4043-a5c6-ec92f24dae27')\"\n",
              "              title=\"Convert this dataframe to an interactive table.\"\n",
              "              style=\"display:none;\">\n",
              "        \n",
              "  <svg xmlns=\"http://www.w3.org/2000/svg\" height=\"24px\"viewBox=\"0 0 24 24\"\n",
              "       width=\"24px\">\n",
              "    <path d=\"M0 0h24v24H0V0z\" fill=\"none\"/>\n",
              "    <path d=\"M18.56 5.44l.94 2.06.94-2.06 2.06-.94-2.06-.94-.94-2.06-.94 2.06-2.06.94zm-11 1L8.5 8.5l.94-2.06 2.06-.94-2.06-.94L8.5 2.5l-.94 2.06-2.06.94zm10 10l.94 2.06.94-2.06 2.06-.94-2.06-.94-.94-2.06-.94 2.06-2.06.94z\"/><path d=\"M17.41 7.96l-1.37-1.37c-.4-.4-.92-.59-1.43-.59-.52 0-1.04.2-1.43.59L10.3 9.45l-7.72 7.72c-.78.78-.78 2.05 0 2.83L4 21.41c.39.39.9.59 1.41.59.51 0 1.02-.2 1.41-.59l7.78-7.78 2.81-2.81c.8-.78.8-2.07 0-2.86zM5.41 20L4 18.59l7.72-7.72 1.47 1.35L5.41 20z\"/>\n",
              "  </svg>\n",
              "      </button>\n",
              "      \n",
              "  <style>\n",
              "    .colab-df-container {\n",
              "      display:flex;\n",
              "      flex-wrap:wrap;\n",
              "      gap: 12px;\n",
              "    }\n",
              "\n",
              "    .colab-df-convert {\n",
              "      background-color: #E8F0FE;\n",
              "      border: none;\n",
              "      border-radius: 50%;\n",
              "      cursor: pointer;\n",
              "      display: none;\n",
              "      fill: #1967D2;\n",
              "      height: 32px;\n",
              "      padding: 0 0 0 0;\n",
              "      width: 32px;\n",
              "    }\n",
              "\n",
              "    .colab-df-convert:hover {\n",
              "      background-color: #E2EBFA;\n",
              "      box-shadow: 0px 1px 2px rgba(60, 64, 67, 0.3), 0px 1px 3px 1px rgba(60, 64, 67, 0.15);\n",
              "      fill: #174EA6;\n",
              "    }\n",
              "\n",
              "    [theme=dark] .colab-df-convert {\n",
              "      background-color: #3B4455;\n",
              "      fill: #D2E3FC;\n",
              "    }\n",
              "\n",
              "    [theme=dark] .colab-df-convert:hover {\n",
              "      background-color: #434B5C;\n",
              "      box-shadow: 0px 1px 3px 1px rgba(0, 0, 0, 0.15);\n",
              "      filter: drop-shadow(0px 1px 2px rgba(0, 0, 0, 0.3));\n",
              "      fill: #FFFFFF;\n",
              "    }\n",
              "  </style>\n",
              "\n",
              "      <script>\n",
              "        const buttonEl =\n",
              "          document.querySelector('#df-e85bf8af-71f3-4043-a5c6-ec92f24dae27 button.colab-df-convert');\n",
              "        buttonEl.style.display =\n",
              "          google.colab.kernel.accessAllowed ? 'block' : 'none';\n",
              "\n",
              "        async function convertToInteractive(key) {\n",
              "          const element = document.querySelector('#df-e85bf8af-71f3-4043-a5c6-ec92f24dae27');\n",
              "          const dataTable =\n",
              "            await google.colab.kernel.invokeFunction('convertToInteractive',\n",
              "                                                     [key], {});\n",
              "          if (!dataTable) return;\n",
              "\n",
              "          const docLinkHtml = 'Like what you see? Visit the ' +\n",
              "            '<a target=\"_blank\" href=https://colab.research.google.com/notebooks/data_table.ipynb>data table notebook</a>'\n",
              "            + ' to learn more about interactive tables.';\n",
              "          element.innerHTML = '';\n",
              "          dataTable['output_type'] = 'display_data';\n",
              "          await google.colab.output.renderOutput(dataTable, element);\n",
              "          const docLink = document.createElement('div');\n",
              "          docLink.innerHTML = docLinkHtml;\n",
              "          element.appendChild(docLink);\n",
              "        }\n",
              "      </script>\n",
              "    </div>\n",
              "  </div>\n",
              "  "
            ]
          },
          "metadata": {},
          "execution_count": 144
        }
      ]
    },
    {
      "cell_type": "code",
      "source": [
        "wcDf = yelp_data[yelp_data['Name'] == \"Barbetta\"]"
      ],
      "metadata": {
        "id": "7fqvAZw8YsqJ"
      },
      "execution_count": null,
      "outputs": []
    },
    {
      "cell_type": "code",
      "source": [
        "print(wcDf.iloc[35]['Polarity'])\n",
        "print('Sentiment:', wcDf.iloc[35]['Sentiment'])\n",
        "x = wcDf.iloc[35]['chocol':].sort_values(ascending=False)[:10]\n",
        "x"
      ],
      "metadata": {
        "colab": {
          "base_uri": "https://localhost:8080/"
        },
        "id": "fsk5fy8bY2fL",
        "outputId": "02b68497-1599-4a7f-a2b8-3f5a12e0cd60"
      },
      "execution_count": null,
      "outputs": [
        {
          "output_type": "stream",
          "name": "stdout",
          "text": [
            "0.5636842105263158\n",
            "Sentiment: Positive\n"
          ]
        },
        {
          "output_type": "execute_result",
          "data": {
            "text/plain": [
              "server           0.360979\n",
              "theyr             0.23852\n",
              "touch            0.222139\n",
              "tell             0.214787\n",
              "falafel          0.212689\n",
              "irish pub        0.189755\n",
              "deliv            0.175526\n",
              "isnt             0.166542\n",
              "worker            0.16054\n",
              "friend servic    0.155484\n",
              "Name: 3488, dtype: object"
            ]
          },
          "metadata": {},
          "execution_count": 171
        }
      ]
    },
    {
      "cell_type": "code",
      "source": [
        "wc = yelp_data[yelp_data['Name'] == \"Tio Pepe\"]"
      ],
      "metadata": {
        "id": "_ZlUv2WtEPn7"
      },
      "execution_count": null,
      "outputs": []
    },
    {
      "cell_type": "code",
      "source": [
        "print(wc.iloc[15]['Polarity'])\n",
        "print('Sentiment:', wc.iloc[15]['Sentiment'])\n",
        "x = wc.iloc[15]['chocol':].sort_values(ascending=False)[:10]\n",
        "x"
      ],
      "metadata": {
        "colab": {
          "base_uri": "https://localhost:8080/"
        },
        "id": "YgLo2weVEaR0",
        "outputId": "c2661ec5-a9d8-4dc5-efec-b3f45f29ebbd"
      },
      "execution_count": null,
      "outputs": [
        {
          "output_type": "stream",
          "name": "stdout",
          "text": [
            "0.65\n",
            "Sentiment: Positive\n"
          ]
        },
        {
          "output_type": "execute_result",
          "data": {
            "text/plain": [
              "god             0.462098\n",
              "neighborhood    0.306678\n",
              "medium          0.288015\n",
              "etc             0.264142\n",
              "chicken         0.252601\n",
              "favor           0.252075\n",
              "diner food      0.248787\n",
              "delish          0.208728\n",
              "pretti          0.198987\n",
              "kinda           0.189852\n",
              "Name: 4804, dtype: object"
            ]
          },
          "metadata": {},
          "execution_count": 147
        }
      ]
    },
    {
      "cell_type": "code",
      "source": [
        "pip install pycm"
      ],
      "metadata": {
        "colab": {
          "base_uri": "https://localhost:8080/"
        },
        "id": "xGtmR9HcY6wU",
        "outputId": "073cfe14-8c7a-4d2a-c154-0f847730668c"
      },
      "execution_count": null,
      "outputs": [
        {
          "output_type": "stream",
          "name": "stdout",
          "text": [
            "Requirement already satisfied: pycm in /usr/local/lib/python3.7/dist-packages (3.5)\n",
            "Requirement already satisfied: numpy>=1.9.0 in /usr/local/lib/python3.7/dist-packages (from pycm) (1.21.6)\n",
            "Requirement already satisfied: art>=1.8 in /usr/local/lib/python3.7/dist-packages (from pycm) (5.6)\n"
          ]
        }
      ]
    },
    {
      "cell_type": "code",
      "source": [
        "from sklearn.linear_model import LogisticRegression\n",
        "from sklearn.model_selection import GridSearchCV\n",
        "from sklearn.metrics import make_scorer, accuracy_score, f1_score\n",
        "from sklearn.model_selection import train_test_split\n",
        "from sklearn.pipeline import Pipeline\n",
        "from sklearn.preprocessing import StandardScaler\n",
        "import pickle\n",
        "from pycm import *\n",
        "\n",
        "X = yelp_data.iloc[0:,4:]\n",
        "y = yelp_data.Sentiment\n",
        "indices = yelp_data.index\n",
        "\n",
        "X_train, X_test, y_train, y_test, itrain, itest = train_test_split(X,y,indices,train_size=0.8,random_state=7)"
      ],
      "metadata": {
        "id": "o8--ah6tbJmM"
      },
      "execution_count": null,
      "outputs": []
    },
    {
      "cell_type": "markdown",
      "source": [
        "##1. Logistic Regression"
      ],
      "metadata": {
        "id": "fg3j9s1Tbg1k"
      }
    },
    {
      "cell_type": "code",
      "source": [
        "steps = [('scaler', StandardScaler()), ('lr', LogisticRegression(solver = 'lbfgs'))] \n",
        "pipeline = Pipeline(steps)\n",
        "parameters = {'lr__C':[0.01, 0.1, 1, 10, 100]}\n",
        "\n",
        "clf = GridSearchCV(pipeline, parameters, cv = 10, scoring=\"accuracy\") \n",
        "clf.fit(X_train, y_train)\n",
        "clf.best_params_"
      ],
      "metadata": {
        "colab": {
          "base_uri": "https://localhost:8080/"
        },
        "id": "wxoRvlEwbt-K",
        "outputId": "e0ec6bd5-af09-44f8-c763-7a04d74988c2"
      },
      "execution_count": null,
      "outputs": [
        {
          "output_type": "execute_result",
          "data": {
            "text/plain": [
              "{'lr__C': 0.1}"
            ]
          },
          "metadata": {},
          "execution_count": 24
        }
      ]
    },
    {
      "cell_type": "code",
      "source": [
        "filename = 'lr.sav'\n",
        "pickle.dump(clf, open(filename, 'wb'))"
      ],
      "metadata": {
        "id": "puzhxqCCcQ2p"
      },
      "execution_count": null,
      "outputs": []
    },
    {
      "cell_type": "code",
      "source": [
        "filename = 'lr.sav'\n",
        "clf = pickle.load(open(filename, 'rb'))"
      ],
      "metadata": {
        "id": "LRBn20fScTmR"
      },
      "execution_count": null,
      "outputs": []
    },
    {
      "cell_type": "code",
      "source": [
        "results = clf.predict(X_test)"
      ],
      "metadata": {
        "id": "Rr3eMTexcV7u"
      },
      "execution_count": null,
      "outputs": []
    },
    {
      "cell_type": "code",
      "source": [
        "test_accuracy = clf.score(X_test, y_test)\n",
        "f1_accuracy = f1_score(y_test,results,average='macro')\n",
        "f1_accuracym = f1_score(y_test,results,average='micro')\n",
        "f1_accuracyw = f1_score(y_test,results,average='weighted')\n",
        "print(\"Accuracy on test data: \" ,test_accuracy)\n",
        "print('F1 Score (macro): ', f1_accuracy)\n",
        "print('F1 Score (micro): ', f1_accuracym)\n",
        "print('F1 Score (weighted): ', f1_accuracyw)"
      ],
      "metadata": {
        "colab": {
          "base_uri": "https://localhost:8080/"
        },
        "id": "4HjZhIhkcYRD",
        "outputId": "0c556128-0cd6-49ef-9f42-b2ec8bc82845"
      },
      "execution_count": null,
      "outputs": [
        {
          "output_type": "stream",
          "name": "stdout",
          "text": [
            "Accuracy on test data:  0.6951553930530164\n",
            "F1 Score (macro):  0.6933462169665948\n",
            "F1 Score (micro):  0.6951553930530164\n",
            "F1 Score (weighted):  0.6957884475947633\n"
          ]
        }
      ]
    },
    {
      "cell_type": "code",
      "source": [
        "lr_acc = test_accuracy\n",
        "lr_f1 = f1_accuracy\n",
        "lr_f1m = f1_accuracym\n",
        "lr_f1w = f1_accuracyw"
      ],
      "metadata": {
        "id": "wxZcd9Zjca-5"
      },
      "execution_count": null,
      "outputs": []
    },
    {
      "cell_type": "markdown",
      "source": [
        "##2. Random Forest"
      ],
      "metadata": {
        "id": "KojpoPWuek6n"
      }
    },
    {
      "cell_type": "code",
      "source": [
        "from sklearn.ensemble import RandomForestClassifier"
      ],
      "metadata": {
        "id": "4kEX2qlLen-w"
      },
      "execution_count": null,
      "outputs": []
    },
    {
      "cell_type": "code",
      "source": [
        "steps = [('scaler', StandardScaler()), ('rf', RandomForestClassifier())] \n",
        "pipeline = Pipeline(steps) \n",
        "parameters = {'rf__n_estimators':[10 , 20, 30, 40, 50], 'rf__max_features':['auto','sqrt']}\n",
        "clf = GridSearchCV(pipeline, parameters, cv = 10, scoring=\"accuracy\") \n",
        "clf.fit(X_train, y_train)\n",
        "\n",
        "clf.best_params_"
      ],
      "metadata": {
        "colab": {
          "base_uri": "https://localhost:8080/"
        },
        "id": "ibHk6SueerSc",
        "outputId": "94b862a6-0721-40bf-8767-c94602fd2e98"
      },
      "execution_count": null,
      "outputs": [
        {
          "output_type": "execute_result",
          "data": {
            "text/plain": [
              "{'rf__max_features': 'auto', 'rf__n_estimators': 50}"
            ]
          },
          "metadata": {},
          "execution_count": 31
        }
      ]
    },
    {
      "cell_type": "code",
      "source": [
        "filename = 'rf.sav'\n",
        "pickle.dump(clf, open(filename, 'wb'))"
      ],
      "metadata": {
        "id": "Vg43bZXoetuF"
      },
      "execution_count": null,
      "outputs": []
    },
    {
      "cell_type": "code",
      "source": [
        "filename = 'rf.sav'\n",
        "clf = pickle.load(open(filename, 'rb'))"
      ],
      "metadata": {
        "id": "Di1ZIA0VeyqO"
      },
      "execution_count": null,
      "outputs": []
    },
    {
      "cell_type": "code",
      "source": [
        "results = clf.predict(X_test)"
      ],
      "metadata": {
        "id": "N_hk7gPZe149"
      },
      "execution_count": null,
      "outputs": []
    },
    {
      "cell_type": "code",
      "source": [
        "test_accuracy = clf.score(X_test, y_test)\n",
        "f1_accuracy = f1_score(y_test,results,average='macro')\n",
        "f1_accuracym = f1_score(y_test,results,average='micro')\n",
        "f1_accuracyw = f1_score(y_test,results,average='weighted')\n",
        "print(\"Accuracy on test data: \" ,test_accuracy)\n",
        "print('F1 Score (macro): ', f1_accuracy)\n",
        "print('F1 Score (micro): ', f1_accuracym)\n",
        "print('F1 Score (weighted): ', f1_accuracyw)"
      ],
      "metadata": {
        "colab": {
          "base_uri": "https://localhost:8080/"
        },
        "id": "YlR6fl8je4nd",
        "outputId": "e4e7d4a0-9081-4afa-c054-595831720f6d"
      },
      "execution_count": null,
      "outputs": [
        {
          "output_type": "stream",
          "name": "stdout",
          "text": [
            "Accuracy on test data:  0.6608775137111518\n",
            "F1 Score (macro):  0.6595563145869549\n",
            "F1 Score (micro):  0.6608775137111518\n",
            "F1 Score (weighted):  0.6596770705374808\n"
          ]
        }
      ]
    },
    {
      "cell_type": "code",
      "source": [
        "rf_acc = test_accuracy\n",
        "rf_f1 = f1_accuracy\n",
        "rf_f1m = f1_accuracym\n",
        "rf_f1w = f1_accuracyw"
      ],
      "metadata": {
        "id": "RbpSEOxze8Go"
      },
      "execution_count": null,
      "outputs": []
    },
    {
      "cell_type": "markdown",
      "source": [
        "##3. Support Vector Classification"
      ],
      "metadata": {
        "id": "lc24unK4fGcl"
      }
    },
    {
      "cell_type": "code",
      "source": [
        "from sklearn.svm import SVC\n",
        "\n",
        "steps = [('scaler', StandardScaler()), ('svc', SVC(probability=False,kernel='linear',gamma='auto'))] \n",
        "pipeline = Pipeline(steps) \n",
        "parameters = {'svc__C':[0.01, 0.1, 1]}\n",
        "\n",
        "clf = GridSearchCV(pipeline, parameters, cv = 3, scoring=\"accuracy\") \n",
        "clf.fit(X_train, y_train)\n",
        "\n",
        "clf.best_params_"
      ],
      "metadata": {
        "colab": {
          "base_uri": "https://localhost:8080/"
        },
        "id": "VhsGkxmAe_By",
        "outputId": "f235b037-e76f-4eef-9d09-31e711adcda2"
      },
      "execution_count": null,
      "outputs": [
        {
          "output_type": "execute_result",
          "data": {
            "text/plain": [
              "{'svc__C': 0.01}"
            ]
          },
          "metadata": {},
          "execution_count": 37
        }
      ]
    },
    {
      "cell_type": "code",
      "source": [
        "filename = 'svc.sav'\n",
        "pickle.dump(clf, open(filename, 'wb'))"
      ],
      "metadata": {
        "id": "wQV-uj50fPGx"
      },
      "execution_count": null,
      "outputs": []
    },
    {
      "cell_type": "code",
      "source": [
        "filename = 'svc.sav'\n",
        "clf = pickle.load(open(filename, 'rb'))"
      ],
      "metadata": {
        "id": "CIHqAviefPua"
      },
      "execution_count": null,
      "outputs": []
    },
    {
      "cell_type": "code",
      "source": [
        "results = clf.predict(X_test)"
      ],
      "metadata": {
        "id": "hUoVcsQNfR63"
      },
      "execution_count": null,
      "outputs": []
    },
    {
      "cell_type": "code",
      "source": [
        "test_accuracy = clf.score(X_test, y_test)\n",
        "f1_accuracy = f1_score(y_test,results,average='macro')\n",
        "f1_accuracym = f1_score(y_test,results,average='micro')\n",
        "f1_accuracyw = f1_score(y_test,results,average='weighted')\n",
        "print(\"Accuracy on test data: \" ,test_accuracy)\n",
        "print('F1 Score (macro): ', f1_accuracy)\n",
        "print('F1 Score (micro): ', f1_accuracym)\n",
        "print('F1 Score (weighted): ', f1_accuracyw)"
      ],
      "metadata": {
        "colab": {
          "base_uri": "https://localhost:8080/"
        },
        "id": "BXOmZQqDfUIN",
        "outputId": "1129d9d9-a630-45ab-8f44-30760f2c174a"
      },
      "execution_count": null,
      "outputs": [
        {
          "output_type": "stream",
          "name": "stdout",
          "text": [
            "Accuracy on test data:  0.7010968921389397\n",
            "F1 Score (macro):  0.7017782289569849\n",
            "F1 Score (micro):  0.7010968921389397\n",
            "F1 Score (weighted):  0.701150485468546\n"
          ]
        }
      ]
    },
    {
      "cell_type": "code",
      "source": [
        "svc_acc = test_accuracy\n",
        "svc_f1 = f1_accuracy\n",
        "svc_f1m = f1_accuracym\n",
        "svc_f1w = f1_accuracyw"
      ],
      "metadata": {
        "id": "KXS1Ai50fW2F"
      },
      "execution_count": null,
      "outputs": []
    },
    {
      "cell_type": "markdown",
      "source": [
        "##4. Gradient Boosted Classifier"
      ],
      "metadata": {
        "id": "diBHjr_JfaI0"
      }
    },
    {
      "cell_type": "code",
      "source": [
        "from sklearn.ensemble import GradientBoostingClassifier\n",
        "\n",
        "steps = [('scaler', StandardScaler()), ('gbc', GradientBoostingClassifier(max_features='sqrt'))] \n",
        "pipeline = Pipeline(steps) \n",
        "parameters = {'gbc__n_estimators':[10, 50, 100, 200, 500], 'gbc__learning_rate': [0.05, 0.1, 0.15, 0.2, 0.25]}\n",
        "\n",
        "clf = GridSearchCV(pipeline, parameters, cv = 10, scoring=\"accuracy\") \n",
        "clf.fit(X_train, y_train)\n",
        "\n",
        "clf.best_params_"
      ],
      "metadata": {
        "colab": {
          "base_uri": "https://localhost:8080/"
        },
        "id": "zDEdx-d4ffut",
        "outputId": "5a533c0a-f0b7-49ce-ef82-bac607d5e83a"
      },
      "execution_count": null,
      "outputs": [
        {
          "output_type": "execute_result",
          "data": {
            "text/plain": [
              "{'gbc__learning_rate': 0.15, 'gbc__n_estimators': 500}"
            ]
          },
          "metadata": {},
          "execution_count": 43
        }
      ]
    },
    {
      "cell_type": "code",
      "source": [
        "steps = [('scaler', StandardScaler()), ('gbc', GradientBoostingClassifier(learning_rate = 0.15, max_features = 'sqrt', n_estimators = 500))] \n",
        "clf = Pipeline(steps) \n",
        "clf.fit(X_train, y_train)"
      ],
      "metadata": {
        "colab": {
          "base_uri": "https://localhost:8080/"
        },
        "id": "HCgYFx5DzSkh",
        "outputId": "f5f1f2ff-61d3-4e7f-8f52-967ba5c42f37"
      },
      "execution_count": null,
      "outputs": [
        {
          "output_type": "execute_result",
          "data": {
            "text/plain": [
              "Pipeline(steps=[('scaler', StandardScaler()),\n",
              "                ('gbc',\n",
              "                 GradientBoostingClassifier(learning_rate=0.15,\n",
              "                                            max_features='sqrt',\n",
              "                                            n_estimators=500))])"
            ]
          },
          "metadata": {},
          "execution_count": 44
        }
      ]
    },
    {
      "cell_type": "code",
      "source": [
        "filename = 'gbc.sav'\n",
        "pickle.dump(clf, open(filename, 'wb'))"
      ],
      "metadata": {
        "id": "4XDJunVFzY4R"
      },
      "execution_count": null,
      "outputs": []
    },
    {
      "cell_type": "code",
      "source": [
        "filename = 'gbc.sav'\n",
        "clf = pickle.load(open(filename, 'rb'))"
      ],
      "metadata": {
        "id": "EpfmbinQzZjZ"
      },
      "execution_count": null,
      "outputs": []
    },
    {
      "cell_type": "code",
      "source": [
        "results = clf.predict(X_test)"
      ],
      "metadata": {
        "id": "2NPTStlJzb0e"
      },
      "execution_count": null,
      "outputs": []
    },
    {
      "cell_type": "code",
      "source": [
        "test_accuracy = clf.score(X_test, y_test)\n",
        "probs = clf.predict_proba(X_test)[:, 1]\n",
        "f1_accuracy = f1_score(y_test,results,average='macro')\n",
        "f1_accuracym = f1_score(y_test,results,average='micro')\n",
        "f1_accuracyw = f1_score(y_test,results,average='weighted')\n",
        "print(\"Accuracy on test data: \" ,test_accuracy)\n",
        "print('F1 Score (macro): ', f1_accuracy)\n",
        "print('F1 Score (micro): ', f1_accuracym)\n",
        "print('F1 Score (weighted): ', f1_accuracyw)"
      ],
      "metadata": {
        "colab": {
          "base_uri": "https://localhost:8080/"
        },
        "id": "z854tk5pzedN",
        "outputId": "09d2b999-33cc-4306-f6d4-25b833eeb872"
      },
      "execution_count": null,
      "outputs": [
        {
          "output_type": "stream",
          "name": "stdout",
          "text": [
            "Accuracy on test data:  0.7093235831809872\n",
            "F1 Score (macro):  0.7110687468181391\n",
            "F1 Score (micro):  0.7093235831809871\n",
            "F1 Score (weighted):  0.7099383320830176\n"
          ]
        }
      ]
    },
    {
      "cell_type": "code",
      "source": [
        "gbc_acc = test_accuracy\n",
        "gbc_f1 = f1_accuracy\n",
        "gbc_f1m = f1_accuracym\n",
        "gbc_f1w = f1_accuracyw"
      ],
      "metadata": {
        "id": "t-eo6FmnzjAm"
      },
      "execution_count": null,
      "outputs": []
    },
    {
      "cell_type": "markdown",
      "source": [
        "##Result"
      ],
      "metadata": {
        "id": "EY7Z74qz91Ij"
      }
    },
    {
      "cell_type": "code",
      "source": [
        "result1 = pd.DataFrame({'Model':['Logistic Regression', 'Random Forest', 'SVC', 'GBC'],\n",
        "             'Accuracy':[lr_acc, rf_acc, svc_acc, gbc_acc],\n",
        "             'F1_Macro':[lr_f1, rf_f1, svc_f1, gbc_f1],\n",
        "             'F1_Micro':[lr_f1m, rf_f1m, svc_f1m, gbc_f1m],\n",
        "             'F1_Weighted':[lr_f1w, rf_f1w, svc_f1w, gbc_f1w]})\n",
        "result1 = result1.round(3)\n",
        "result1"
      ],
      "metadata": {
        "colab": {
          "base_uri": "https://localhost:8080/",
          "height": 175
        },
        "id": "1kOFnV6R9z9E",
        "outputId": "5fccf321-a7b1-4b0d-a99e-9203d205e807"
      },
      "execution_count": null,
      "outputs": [
        {
          "output_type": "execute_result",
          "data": {
            "text/plain": [
              "                 Model  Accuracy  F1_Macro  F1_Micro  F1_Weighted\n",
              "0  Logistic Regression     0.695     0.693     0.695        0.696\n",
              "1        Random Forest     0.661     0.660     0.661        0.660\n",
              "2                  SVC     0.701     0.702     0.701        0.701\n",
              "3                  GBC     0.709     0.711     0.709        0.710"
            ],
            "text/html": [
              "\n",
              "  <div id=\"df-ca897677-514c-4f3f-9fd1-d5153076c609\">\n",
              "    <div class=\"colab-df-container\">\n",
              "      <div>\n",
              "<style scoped>\n",
              "    .dataframe tbody tr th:only-of-type {\n",
              "        vertical-align: middle;\n",
              "    }\n",
              "\n",
              "    .dataframe tbody tr th {\n",
              "        vertical-align: top;\n",
              "    }\n",
              "\n",
              "    .dataframe thead th {\n",
              "        text-align: right;\n",
              "    }\n",
              "</style>\n",
              "<table border=\"1\" class=\"dataframe\">\n",
              "  <thead>\n",
              "    <tr style=\"text-align: right;\">\n",
              "      <th></th>\n",
              "      <th>Model</th>\n",
              "      <th>Accuracy</th>\n",
              "      <th>F1_Macro</th>\n",
              "      <th>F1_Micro</th>\n",
              "      <th>F1_Weighted</th>\n",
              "    </tr>\n",
              "  </thead>\n",
              "  <tbody>\n",
              "    <tr>\n",
              "      <th>0</th>\n",
              "      <td>Logistic Regression</td>\n",
              "      <td>0.695</td>\n",
              "      <td>0.693</td>\n",
              "      <td>0.695</td>\n",
              "      <td>0.696</td>\n",
              "    </tr>\n",
              "    <tr>\n",
              "      <th>1</th>\n",
              "      <td>Random Forest</td>\n",
              "      <td>0.661</td>\n",
              "      <td>0.660</td>\n",
              "      <td>0.661</td>\n",
              "      <td>0.660</td>\n",
              "    </tr>\n",
              "    <tr>\n",
              "      <th>2</th>\n",
              "      <td>SVC</td>\n",
              "      <td>0.701</td>\n",
              "      <td>0.702</td>\n",
              "      <td>0.701</td>\n",
              "      <td>0.701</td>\n",
              "    </tr>\n",
              "    <tr>\n",
              "      <th>3</th>\n",
              "      <td>GBC</td>\n",
              "      <td>0.709</td>\n",
              "      <td>0.711</td>\n",
              "      <td>0.709</td>\n",
              "      <td>0.710</td>\n",
              "    </tr>\n",
              "  </tbody>\n",
              "</table>\n",
              "</div>\n",
              "      <button class=\"colab-df-convert\" onclick=\"convertToInteractive('df-ca897677-514c-4f3f-9fd1-d5153076c609')\"\n",
              "              title=\"Convert this dataframe to an interactive table.\"\n",
              "              style=\"display:none;\">\n",
              "        \n",
              "  <svg xmlns=\"http://www.w3.org/2000/svg\" height=\"24px\"viewBox=\"0 0 24 24\"\n",
              "       width=\"24px\">\n",
              "    <path d=\"M0 0h24v24H0V0z\" fill=\"none\"/>\n",
              "    <path d=\"M18.56 5.44l.94 2.06.94-2.06 2.06-.94-2.06-.94-.94-2.06-.94 2.06-2.06.94zm-11 1L8.5 8.5l.94-2.06 2.06-.94-2.06-.94L8.5 2.5l-.94 2.06-2.06.94zm10 10l.94 2.06.94-2.06 2.06-.94-2.06-.94-.94-2.06-.94 2.06-2.06.94z\"/><path d=\"M17.41 7.96l-1.37-1.37c-.4-.4-.92-.59-1.43-.59-.52 0-1.04.2-1.43.59L10.3 9.45l-7.72 7.72c-.78.78-.78 2.05 0 2.83L4 21.41c.39.39.9.59 1.41.59.51 0 1.02-.2 1.41-.59l7.78-7.78 2.81-2.81c.8-.78.8-2.07 0-2.86zM5.41 20L4 18.59l7.72-7.72 1.47 1.35L5.41 20z\"/>\n",
              "  </svg>\n",
              "      </button>\n",
              "      \n",
              "  <style>\n",
              "    .colab-df-container {\n",
              "      display:flex;\n",
              "      flex-wrap:wrap;\n",
              "      gap: 12px;\n",
              "    }\n",
              "\n",
              "    .colab-df-convert {\n",
              "      background-color: #E8F0FE;\n",
              "      border: none;\n",
              "      border-radius: 50%;\n",
              "      cursor: pointer;\n",
              "      display: none;\n",
              "      fill: #1967D2;\n",
              "      height: 32px;\n",
              "      padding: 0 0 0 0;\n",
              "      width: 32px;\n",
              "    }\n",
              "\n",
              "    .colab-df-convert:hover {\n",
              "      background-color: #E2EBFA;\n",
              "      box-shadow: 0px 1px 2px rgba(60, 64, 67, 0.3), 0px 1px 3px 1px rgba(60, 64, 67, 0.15);\n",
              "      fill: #174EA6;\n",
              "    }\n",
              "\n",
              "    [theme=dark] .colab-df-convert {\n",
              "      background-color: #3B4455;\n",
              "      fill: #D2E3FC;\n",
              "    }\n",
              "\n",
              "    [theme=dark] .colab-df-convert:hover {\n",
              "      background-color: #434B5C;\n",
              "      box-shadow: 0px 1px 3px 1px rgba(0, 0, 0, 0.15);\n",
              "      filter: drop-shadow(0px 1px 2px rgba(0, 0, 0, 0.3));\n",
              "      fill: #FFFFFF;\n",
              "    }\n",
              "  </style>\n",
              "\n",
              "      <script>\n",
              "        const buttonEl =\n",
              "          document.querySelector('#df-ca897677-514c-4f3f-9fd1-d5153076c609 button.colab-df-convert');\n",
              "        buttonEl.style.display =\n",
              "          google.colab.kernel.accessAllowed ? 'block' : 'none';\n",
              "\n",
              "        async function convertToInteractive(key) {\n",
              "          const element = document.querySelector('#df-ca897677-514c-4f3f-9fd1-d5153076c609');\n",
              "          const dataTable =\n",
              "            await google.colab.kernel.invokeFunction('convertToInteractive',\n",
              "                                                     [key], {});\n",
              "          if (!dataTable) return;\n",
              "\n",
              "          const docLinkHtml = 'Like what you see? Visit the ' +\n",
              "            '<a target=\"_blank\" href=https://colab.research.google.com/notebooks/data_table.ipynb>data table notebook</a>'\n",
              "            + ' to learn more about interactive tables.';\n",
              "          element.innerHTML = '';\n",
              "          dataTable['output_type'] = 'display_data';\n",
              "          await google.colab.output.renderOutput(dataTable, element);\n",
              "          const docLink = document.createElement('div');\n",
              "          docLink.innerHTML = docLinkHtml;\n",
              "          element.appendChild(docLink);\n",
              "        }\n",
              "      </script>\n",
              "    </div>\n",
              "  </div>\n",
              "  "
            ]
          },
          "metadata": {},
          "execution_count": 50
        }
      ]
    },
    {
      "cell_type": "markdown",
      "source": [
        "Gradient boosted classifier has the highest score.\n",
        "##Confusion Matrix"
      ],
      "metadata": {
        "id": "99ARLvot-A9a"
      }
    },
    {
      "cell_type": "code",
      "source": [
        "filename = 'gbc.sav'\n",
        "clf = pickle.load(open(filename, 'rb'))"
      ],
      "metadata": {
        "id": "9wqZx78a97Fv"
      },
      "execution_count": null,
      "outputs": []
    },
    {
      "cell_type": "code",
      "source": [
        "from sklearn.metrics import confusion_matrix\n",
        "confusion_matrix(y_test, clf.predict(X_test), labels=None, sample_weight=None)"
      ],
      "metadata": {
        "colab": {
          "base_uri": "https://localhost:8080/"
        },
        "id": "FH728wb5-Rst",
        "outputId": "fa8d6273-28eb-43d5-d3cd-c18d0b498006"
      },
      "execution_count": null,
      "outputs": [
        {
          "output_type": "execute_result",
          "data": {
            "text/plain": [
              "array([[184,   2, 101,  15],\n",
              "       [  1, 325,  12, 124],\n",
              "       [ 24,   8, 416, 146],\n",
              "       [  4,  84, 115, 627]])"
            ]
          },
          "metadata": {},
          "execution_count": 52
        }
      ]
    },
    {
      "cell_type": "code",
      "source": [
        "my_indices = np.where(y_test != clf.predict(X_test))[0]\n",
        "misclassified = [itest[i] for i in my_indices]"
      ],
      "metadata": {
        "id": "jzn6JDR2-UUX"
      },
      "execution_count": null,
      "outputs": []
    },
    {
      "cell_type": "code",
      "source": [
        "df_mis = yelp_data[yelp_data.index.isin(misclassified)]\n",
        "df_mis.head()"
      ],
      "metadata": {
        "colab": {
          "base_uri": "https://localhost:8080/",
          "height": 803
        },
        "id": "968ChrHs-dUf",
        "outputId": "a786788b-49b8-4599-e75f-3c971b2941ed"
      },
      "execution_count": null,
      "outputs": [
        {
          "output_type": "execute_result",
          "data": {
            "text/plain": [
              "                     Name                                             Review  \\\n",
              "5   Morris Park Bake Shop  'Went here yesterday for the Black Forest Cake...   \n",
              "21  Morris Park Bake Shop  'Hey I just heard you bought the Captains. Im ...   \n",
              "27  Morris Park Bake Shop  'I like their Pastries. My Mom, Grandma and I ...   \n",
              "42  Morris Park Bake Shop  'Sorry, its really not good. Food not really w...   \n",
              "46  Morris Park Bake Shop  'Love their bread and pastries. It has a small...   \n",
              "\n",
              "    Polarity          Sentiment  Positive_Words_P  chocol  cup  amaz  eat  \\\n",
              "5   0.377083  Slightly Positive          0.333333     0.0  0.0   0.0  0.0   \n",
              "21  0.650000           Positive          0.045455     0.0  0.0   0.0  0.0   \n",
              "27  0.433333           Positive          0.096774     0.0  0.0   0.0  0.0   \n",
              "42  0.337037  Slightly Positive          0.333333     0.0  0.0   0.0  0.0   \n",
              "46  0.190625  Slightly Negative          0.214286     0.0  0.0   0.0  0.0   \n",
              "\n",
              "    year  ...  linguin  linguini  jimmi  player  juliana  pool tabl  castl  \\\n",
              "5    0.0  ...      0.0       0.0    0.0     0.0      0.0        0.0    0.0   \n",
              "21   0.0  ...      0.0       0.0    0.0     0.0      0.0        0.0    0.0   \n",
              "27   0.0  ...      0.0       0.0    0.0     0.0      0.0        0.0    0.0   \n",
              "42   0.0  ...      0.0       0.0    0.0     0.0      0.0        0.0    0.0   \n",
              "46   0.0  ...      0.0       0.0    0.0     0.0      0.0        0.0    0.0   \n",
              "\n",
              "    falafel  paella  white castl  \n",
              "5       0.0     0.0          0.0  \n",
              "21      0.0     0.0          0.0  \n",
              "27      0.0     0.0          0.0  \n",
              "42      0.0     0.0          0.0  \n",
              "46      0.0     0.0          0.0  \n",
              "\n",
              "[5 rows x 1761 columns]"
            ],
            "text/html": [
              "\n",
              "  <div id=\"df-5aa7e513-c6ab-4469-bba3-cc3d840fa717\">\n",
              "    <div class=\"colab-df-container\">\n",
              "      <div>\n",
              "<style scoped>\n",
              "    .dataframe tbody tr th:only-of-type {\n",
              "        vertical-align: middle;\n",
              "    }\n",
              "\n",
              "    .dataframe tbody tr th {\n",
              "        vertical-align: top;\n",
              "    }\n",
              "\n",
              "    .dataframe thead th {\n",
              "        text-align: right;\n",
              "    }\n",
              "</style>\n",
              "<table border=\"1\" class=\"dataframe\">\n",
              "  <thead>\n",
              "    <tr style=\"text-align: right;\">\n",
              "      <th></th>\n",
              "      <th>Name</th>\n",
              "      <th>Review</th>\n",
              "      <th>Polarity</th>\n",
              "      <th>Sentiment</th>\n",
              "      <th>Positive_Words_P</th>\n",
              "      <th>chocol</th>\n",
              "      <th>cup</th>\n",
              "      <th>amaz</th>\n",
              "      <th>eat</th>\n",
              "      <th>year</th>\n",
              "      <th>...</th>\n",
              "      <th>linguin</th>\n",
              "      <th>linguini</th>\n",
              "      <th>jimmi</th>\n",
              "      <th>player</th>\n",
              "      <th>juliana</th>\n",
              "      <th>pool tabl</th>\n",
              "      <th>castl</th>\n",
              "      <th>falafel</th>\n",
              "      <th>paella</th>\n",
              "      <th>white castl</th>\n",
              "    </tr>\n",
              "  </thead>\n",
              "  <tbody>\n",
              "    <tr>\n",
              "      <th>5</th>\n",
              "      <td>Morris Park Bake Shop</td>\n",
              "      <td>'Went here yesterday for the Black Forest Cake...</td>\n",
              "      <td>0.377083</td>\n",
              "      <td>Slightly Positive</td>\n",
              "      <td>0.333333</td>\n",
              "      <td>0.0</td>\n",
              "      <td>0.0</td>\n",
              "      <td>0.0</td>\n",
              "      <td>0.0</td>\n",
              "      <td>0.0</td>\n",
              "      <td>...</td>\n",
              "      <td>0.0</td>\n",
              "      <td>0.0</td>\n",
              "      <td>0.0</td>\n",
              "      <td>0.0</td>\n",
              "      <td>0.0</td>\n",
              "      <td>0.0</td>\n",
              "      <td>0.0</td>\n",
              "      <td>0.0</td>\n",
              "      <td>0.0</td>\n",
              "      <td>0.0</td>\n",
              "    </tr>\n",
              "    <tr>\n",
              "      <th>21</th>\n",
              "      <td>Morris Park Bake Shop</td>\n",
              "      <td>'Hey I just heard you bought the Captains. Im ...</td>\n",
              "      <td>0.650000</td>\n",
              "      <td>Positive</td>\n",
              "      <td>0.045455</td>\n",
              "      <td>0.0</td>\n",
              "      <td>0.0</td>\n",
              "      <td>0.0</td>\n",
              "      <td>0.0</td>\n",
              "      <td>0.0</td>\n",
              "      <td>...</td>\n",
              "      <td>0.0</td>\n",
              "      <td>0.0</td>\n",
              "      <td>0.0</td>\n",
              "      <td>0.0</td>\n",
              "      <td>0.0</td>\n",
              "      <td>0.0</td>\n",
              "      <td>0.0</td>\n",
              "      <td>0.0</td>\n",
              "      <td>0.0</td>\n",
              "      <td>0.0</td>\n",
              "    </tr>\n",
              "    <tr>\n",
              "      <th>27</th>\n",
              "      <td>Morris Park Bake Shop</td>\n",
              "      <td>'I like their Pastries. My Mom, Grandma and I ...</td>\n",
              "      <td>0.433333</td>\n",
              "      <td>Positive</td>\n",
              "      <td>0.096774</td>\n",
              "      <td>0.0</td>\n",
              "      <td>0.0</td>\n",
              "      <td>0.0</td>\n",
              "      <td>0.0</td>\n",
              "      <td>0.0</td>\n",
              "      <td>...</td>\n",
              "      <td>0.0</td>\n",
              "      <td>0.0</td>\n",
              "      <td>0.0</td>\n",
              "      <td>0.0</td>\n",
              "      <td>0.0</td>\n",
              "      <td>0.0</td>\n",
              "      <td>0.0</td>\n",
              "      <td>0.0</td>\n",
              "      <td>0.0</td>\n",
              "      <td>0.0</td>\n",
              "    </tr>\n",
              "    <tr>\n",
              "      <th>42</th>\n",
              "      <td>Morris Park Bake Shop</td>\n",
              "      <td>'Sorry, its really not good. Food not really w...</td>\n",
              "      <td>0.337037</td>\n",
              "      <td>Slightly Positive</td>\n",
              "      <td>0.333333</td>\n",
              "      <td>0.0</td>\n",
              "      <td>0.0</td>\n",
              "      <td>0.0</td>\n",
              "      <td>0.0</td>\n",
              "      <td>0.0</td>\n",
              "      <td>...</td>\n",
              "      <td>0.0</td>\n",
              "      <td>0.0</td>\n",
              "      <td>0.0</td>\n",
              "      <td>0.0</td>\n",
              "      <td>0.0</td>\n",
              "      <td>0.0</td>\n",
              "      <td>0.0</td>\n",
              "      <td>0.0</td>\n",
              "      <td>0.0</td>\n",
              "      <td>0.0</td>\n",
              "    </tr>\n",
              "    <tr>\n",
              "      <th>46</th>\n",
              "      <td>Morris Park Bake Shop</td>\n",
              "      <td>'Love their bread and pastries. It has a small...</td>\n",
              "      <td>0.190625</td>\n",
              "      <td>Slightly Negative</td>\n",
              "      <td>0.214286</td>\n",
              "      <td>0.0</td>\n",
              "      <td>0.0</td>\n",
              "      <td>0.0</td>\n",
              "      <td>0.0</td>\n",
              "      <td>0.0</td>\n",
              "      <td>...</td>\n",
              "      <td>0.0</td>\n",
              "      <td>0.0</td>\n",
              "      <td>0.0</td>\n",
              "      <td>0.0</td>\n",
              "      <td>0.0</td>\n",
              "      <td>0.0</td>\n",
              "      <td>0.0</td>\n",
              "      <td>0.0</td>\n",
              "      <td>0.0</td>\n",
              "      <td>0.0</td>\n",
              "    </tr>\n",
              "  </tbody>\n",
              "</table>\n",
              "<p>5 rows × 1761 columns</p>\n",
              "</div>\n",
              "      <button class=\"colab-df-convert\" onclick=\"convertToInteractive('df-5aa7e513-c6ab-4469-bba3-cc3d840fa717')\"\n",
              "              title=\"Convert this dataframe to an interactive table.\"\n",
              "              style=\"display:none;\">\n",
              "        \n",
              "  <svg xmlns=\"http://www.w3.org/2000/svg\" height=\"24px\"viewBox=\"0 0 24 24\"\n",
              "       width=\"24px\">\n",
              "    <path d=\"M0 0h24v24H0V0z\" fill=\"none\"/>\n",
              "    <path d=\"M18.56 5.44l.94 2.06.94-2.06 2.06-.94-2.06-.94-.94-2.06-.94 2.06-2.06.94zm-11 1L8.5 8.5l.94-2.06 2.06-.94-2.06-.94L8.5 2.5l-.94 2.06-2.06.94zm10 10l.94 2.06.94-2.06 2.06-.94-2.06-.94-.94-2.06-.94 2.06-2.06.94z\"/><path d=\"M17.41 7.96l-1.37-1.37c-.4-.4-.92-.59-1.43-.59-.52 0-1.04.2-1.43.59L10.3 9.45l-7.72 7.72c-.78.78-.78 2.05 0 2.83L4 21.41c.39.39.9.59 1.41.59.51 0 1.02-.2 1.41-.59l7.78-7.78 2.81-2.81c.8-.78.8-2.07 0-2.86zM5.41 20L4 18.59l7.72-7.72 1.47 1.35L5.41 20z\"/>\n",
              "  </svg>\n",
              "      </button>\n",
              "      \n",
              "  <style>\n",
              "    .colab-df-container {\n",
              "      display:flex;\n",
              "      flex-wrap:wrap;\n",
              "      gap: 12px;\n",
              "    }\n",
              "\n",
              "    .colab-df-convert {\n",
              "      background-color: #E8F0FE;\n",
              "      border: none;\n",
              "      border-radius: 50%;\n",
              "      cursor: pointer;\n",
              "      display: none;\n",
              "      fill: #1967D2;\n",
              "      height: 32px;\n",
              "      padding: 0 0 0 0;\n",
              "      width: 32px;\n",
              "    }\n",
              "\n",
              "    .colab-df-convert:hover {\n",
              "      background-color: #E2EBFA;\n",
              "      box-shadow: 0px 1px 2px rgba(60, 64, 67, 0.3), 0px 1px 3px 1px rgba(60, 64, 67, 0.15);\n",
              "      fill: #174EA6;\n",
              "    }\n",
              "\n",
              "    [theme=dark] .colab-df-convert {\n",
              "      background-color: #3B4455;\n",
              "      fill: #D2E3FC;\n",
              "    }\n",
              "\n",
              "    [theme=dark] .colab-df-convert:hover {\n",
              "      background-color: #434B5C;\n",
              "      box-shadow: 0px 1px 3px 1px rgba(0, 0, 0, 0.15);\n",
              "      filter: drop-shadow(0px 1px 2px rgba(0, 0, 0, 0.3));\n",
              "      fill: #FFFFFF;\n",
              "    }\n",
              "  </style>\n",
              "\n",
              "      <script>\n",
              "        const buttonEl =\n",
              "          document.querySelector('#df-5aa7e513-c6ab-4469-bba3-cc3d840fa717 button.colab-df-convert');\n",
              "        buttonEl.style.display =\n",
              "          google.colab.kernel.accessAllowed ? 'block' : 'none';\n",
              "\n",
              "        async function convertToInteractive(key) {\n",
              "          const element = document.querySelector('#df-5aa7e513-c6ab-4469-bba3-cc3d840fa717');\n",
              "          const dataTable =\n",
              "            await google.colab.kernel.invokeFunction('convertToInteractive',\n",
              "                                                     [key], {});\n",
              "          if (!dataTable) return;\n",
              "\n",
              "          const docLinkHtml = 'Like what you see? Visit the ' +\n",
              "            '<a target=\"_blank\" href=https://colab.research.google.com/notebooks/data_table.ipynb>data table notebook</a>'\n",
              "            + ' to learn more about interactive tables.';\n",
              "          element.innerHTML = '';\n",
              "          dataTable['output_type'] = 'display_data';\n",
              "          await google.colab.output.renderOutput(dataTable, element);\n",
              "          const docLink = document.createElement('div');\n",
              "          docLink.innerHTML = docLinkHtml;\n",
              "          element.appendChild(docLink);\n",
              "        }\n",
              "      </script>\n",
              "    </div>\n",
              "  </div>\n",
              "  "
            ]
          },
          "metadata": {},
          "execution_count": 54
        }
      ]
    },
    {
      "cell_type": "markdown",
      "source": [
        "The 4th review is negative, but it is assigned slightly positive."
      ],
      "metadata": {
        "id": "iDXFnatY_xOc"
      }
    },
    {
      "cell_type": "markdown",
      "source": [
        "Now we will use new pure text based dataset."
      ],
      "metadata": {
        "id": "zZyTCqTHOhC2"
      }
    },
    {
      "cell_type": "code",
      "source": [
        "# new pure text based dataset\n",
        "\n",
        "X = yelp_data.Review\n",
        "y = yelp_data.Sentiment\n",
        "indices = yelp_data.index"
      ],
      "metadata": {
        "id": "TwQwgehm-f44"
      },
      "execution_count": null,
      "outputs": []
    },
    {
      "cell_type": "code",
      "source": [
        "X_train, X_test, y_train, y_test, i_train, i_test = train_test_split(X, y, indices, train_size = 0.8, random_state = 7)"
      ],
      "metadata": {
        "id": "7Q6eG857O8hK"
      },
      "execution_count": null,
      "outputs": []
    },
    {
      "cell_type": "markdown",
      "source": [
        "##5. Naive Bayes with CountVectorizer"
      ],
      "metadata": {
        "id": "1lNoyZn3O76I"
      }
    },
    {
      "cell_type": "code",
      "source": [
        "from sklearn.feature_extraction.text import CountVectorizer\n",
        "from sklearn.naive_bayes import MultinomialNB\n",
        "\n",
        "steps = [('vec', CountVectorizer(stop_words = 'english', ngram_range = (1, 2))), ('nb', MultinomialNB())] \n",
        "pipeline = Pipeline(steps) \n",
        "parameters = {'vec__min_df':[0.01, 0.1, 1, 10, 100], 'nb__alpha':[0.01, 0.1, 1, 10, 100]}\n",
        "\n",
        "clf = GridSearchCV(pipeline, parameters, cv = 10, scoring=\"accuracy\") \n",
        "clf.fit(X_train, y_train)\n",
        "\n",
        "clf.best_params_"
      ],
      "metadata": {
        "colab": {
          "base_uri": "https://localhost:8080/"
        },
        "id": "hN-HLpl1PFXf",
        "outputId": "f4d70ce4-e9b9-4426-c8aa-1e2f09f91da3"
      },
      "execution_count": null,
      "outputs": [
        {
          "output_type": "execute_result",
          "data": {
            "text/plain": [
              "{'nb__alpha': 1, 'vec__min_df': 10}"
            ]
          },
          "metadata": {},
          "execution_count": 57
        }
      ]
    },
    {
      "cell_type": "code",
      "source": [
        "filename = 'nb_cv.sav'\n",
        "pickle.dump(clf, open(filename, 'wb'))"
      ],
      "metadata": {
        "id": "nRctp0tEaMnZ"
      },
      "execution_count": null,
      "outputs": []
    },
    {
      "cell_type": "code",
      "source": [
        "filename = 'nb_cv.sav'\n",
        "clf = pickle.load(open(filename, 'rb'))"
      ],
      "metadata": {
        "id": "KUsNyFBIaNH5"
      },
      "execution_count": null,
      "outputs": []
    },
    {
      "cell_type": "code",
      "source": [
        "results = clf.predict(X_test)"
      ],
      "metadata": {
        "id": "OP40IuE2aPrz"
      },
      "execution_count": null,
      "outputs": []
    },
    {
      "cell_type": "code",
      "source": [
        "test_accuracy = clf.score(X_test, y_test)\n",
        "probs = clf.predict_proba(X_test)[:, 1]\n",
        "f1_accuracy = f1_score(y_test,results,average='macro')\n",
        "f1_accuracym = f1_score(y_test,results,average='micro')\n",
        "f1_accuracyw = f1_score(y_test,results,average='weighted')\n",
        "print(\"Accuracy on test data: \" ,test_accuracy)\n",
        "print('F1 Score (macro): ', f1_accuracy)\n",
        "print('F1 Score (micro): ', f1_accuracym)\n",
        "print('F1 Score (weighted): ', f1_accuracyw)"
      ],
      "metadata": {
        "colab": {
          "base_uri": "https://localhost:8080/"
        },
        "id": "ml6urknqaSvw",
        "outputId": "d02f04ac-baff-4b11-d307-9a6371a44d0c"
      },
      "execution_count": null,
      "outputs": [
        {
          "output_type": "stream",
          "name": "stdout",
          "text": [
            "Accuracy on test data:  0.6019195612431444\n",
            "F1 Score (macro):  0.6083355573090992\n",
            "F1 Score (micro):  0.6019195612431444\n",
            "F1 Score (weighted):  0.6012663305321387\n"
          ]
        }
      ]
    },
    {
      "cell_type": "code",
      "source": [
        "nb_cv_acc = test_accuracy\n",
        "nb_cv_f1 = f1_accuracy\n",
        "nb_cv_f1m = f1_accuracym\n",
        "nb_cv_f1w = f1_accuracyw"
      ],
      "metadata": {
        "id": "htouBqKeaXyQ"
      },
      "execution_count": null,
      "outputs": []
    },
    {
      "cell_type": "markdown",
      "source": [
        "##6. Naive Bayes with TFIDF"
      ],
      "metadata": {
        "id": "BDs2OaEYabMC"
      }
    },
    {
      "cell_type": "code",
      "source": [
        "from sklearn.feature_extraction.text import TfidfVectorizer\n",
        "from sklearn.naive_bayes import MultinomialNB\n",
        "\n",
        "steps = [('vec', TfidfVectorizer(stop_words = 'english', ngram_range = (1, 2))), ('nb', MultinomialNB())] \n",
        "pipeline = Pipeline(steps) \n",
        "parameters = {'vec__min_df':[0.01, 0.1, 1, 10, 100], 'nb__alpha':[0.01, 0.1, 1, 10, 100]}\n",
        "\n",
        "clf = GridSearchCV(pipeline, parameters, cv = 10, scoring=\"accuracy\") \n",
        "clf.fit(X_train, y_train)\n",
        "\n",
        "clf.best_params_"
      ],
      "metadata": {
        "colab": {
          "base_uri": "https://localhost:8080/"
        },
        "id": "fI-32aVLaeRe",
        "outputId": "355fb293-a29f-4e6e-facb-799ad7aa337e"
      },
      "execution_count": null,
      "outputs": [
        {
          "output_type": "execute_result",
          "data": {
            "text/plain": [
              "{'nb__alpha': 0.1, 'vec__min_df': 10}"
            ]
          },
          "metadata": {},
          "execution_count": 63
        }
      ]
    },
    {
      "cell_type": "code",
      "source": [
        "filename = 'nb_tf.sav'\n",
        "pickle.dump(clf, open(filename, 'wb'))"
      ],
      "metadata": {
        "id": "4BKNu-v_aiug"
      },
      "execution_count": null,
      "outputs": []
    },
    {
      "cell_type": "code",
      "source": [
        "filename = 'nb_tf.sav'\n",
        "clf = pickle.load(open(filename, 'rb'))"
      ],
      "metadata": {
        "id": "Lc017K62alvE"
      },
      "execution_count": null,
      "outputs": []
    },
    {
      "cell_type": "code",
      "source": [
        "results = clf.predict(X_test)"
      ],
      "metadata": {
        "id": "0oDtsQYCapbP"
      },
      "execution_count": null,
      "outputs": []
    },
    {
      "cell_type": "code",
      "source": [
        "test_accuracy = clf.score(X_test, y_test)\n",
        "probs = clf.predict_proba(X_test)[:, 1]\n",
        "f1_accuracy = f1_score(y_test,results,average='macro')\n",
        "f1_accuracym = f1_score(y_test,results,average='micro')\n",
        "f1_accuracyw = f1_score(y_test,results,average='weighted')\n",
        "print(\"Accuracy on test data: \" ,test_accuracy)\n",
        "print('F1 Score (macro): ', f1_accuracy)\n",
        "print('F1 Score (micro): ', f1_accuracym)\n",
        "print('F1 Score (weighted): ', f1_accuracyw)"
      ],
      "metadata": {
        "colab": {
          "base_uri": "https://localhost:8080/"
        },
        "id": "uPWqo-fqarng",
        "outputId": "28fbaeec-41ab-4c9d-e763-34d28bbfa74d"
      },
      "execution_count": null,
      "outputs": [
        {
          "output_type": "stream",
          "name": "stdout",
          "text": [
            "Accuracy on test data:  0.5795246800731262\n",
            "F1 Score (macro):  0.5673207909897391\n",
            "F1 Score (micro):  0.5795246800731262\n",
            "F1 Score (weighted):  0.5734084386831486\n"
          ]
        }
      ]
    },
    {
      "cell_type": "code",
      "source": [
        "nb_tf_acc = test_accuracy\n",
        "nb_tf_f1 = f1_accuracy\n",
        "nb_tf_f1m = f1_accuracym\n",
        "nb_tf_f1w = f1_accuracyw"
      ],
      "metadata": {
        "id": "yOdfM8GfavOc"
      },
      "execution_count": null,
      "outputs": []
    },
    {
      "cell_type": "markdown",
      "source": [
        "##7. Gradient Boosted Classifier with Count Vectorizer"
      ],
      "metadata": {
        "id": "cUfusXw-awkD"
      }
    },
    {
      "cell_type": "code",
      "source": [
        "steps = [('vec', CountVectorizer(min_df = 1, stop_words = 'english', ngram_range = (1, 2))), \n",
        "         ('gbc', GradientBoostingClassifier(max_features='sqrt'))] \n",
        "pipeline = Pipeline(steps) \n",
        "parameters = {'gbc__n_estimators':[10, 50, 100, 200, 500], 'gbc__learning_rate': [0.05, 0.1, 0.15, 0.2, 0.25]}\n",
        "\n",
        "clf = GridSearchCV(pipeline, parameters, cv = 3, scoring=\"accuracy\") \n",
        "clf.fit(X_train, y_train)\n",
        "\n",
        "clf.best_params_"
      ],
      "metadata": {
        "colab": {
          "base_uri": "https://localhost:8080/"
        },
        "id": "lGd7gxyRawEb",
        "outputId": "cdfcd0a2-97cb-418c-8556-6cf88dc6a112"
      },
      "execution_count": null,
      "outputs": [
        {
          "output_type": "execute_result",
          "data": {
            "text/plain": [
              "{'gbc__learning_rate': 0.15, 'gbc__n_estimators': 500}"
            ]
          },
          "metadata": {},
          "execution_count": 69
        }
      ]
    },
    {
      "cell_type": "code",
      "source": [
        "steps = [('vec', CountVectorizer(min_df = 1, stop_words = 'english', ngram_range = (1, 2))), \n",
        "         ('gbc', GradientBoostingClassifier(learning_rate = 0.2, max_features = 'sqrt', n_estimators = 500))] \n",
        "clf = Pipeline(steps) \n",
        "clf.fit(X_train, y_train)"
      ],
      "metadata": {
        "colab": {
          "base_uri": "https://localhost:8080/"
        },
        "id": "hdALUVSjbFI5",
        "outputId": "8778d5ee-fb07-45fe-f869-534b314c57ef"
      },
      "execution_count": null,
      "outputs": [
        {
          "output_type": "execute_result",
          "data": {
            "text/plain": [
              "Pipeline(steps=[('vec',\n",
              "                 CountVectorizer(ngram_range=(1, 2), stop_words='english')),\n",
              "                ('gbc',\n",
              "                 GradientBoostingClassifier(learning_rate=0.2,\n",
              "                                            max_features='sqrt',\n",
              "                                            n_estimators=500))])"
            ]
          },
          "metadata": {},
          "execution_count": 71
        }
      ]
    },
    {
      "cell_type": "code",
      "source": [
        "filename = 'gbc_cv.sav'\n",
        "pickle.dump(clf, open(filename, 'wb'))"
      ],
      "metadata": {
        "id": "rMFUKmVIbHdu"
      },
      "execution_count": null,
      "outputs": []
    },
    {
      "cell_type": "code",
      "source": [
        "filename = 'gbc_cv.sav'\n",
        "clf = pickle.load(open(filename, 'rb'))"
      ],
      "metadata": {
        "id": "DY3RAilRbKdG"
      },
      "execution_count": null,
      "outputs": []
    },
    {
      "cell_type": "code",
      "source": [
        "results = clf.predict(X_test)"
      ],
      "metadata": {
        "id": "UXuBwqW0bNE2"
      },
      "execution_count": null,
      "outputs": []
    },
    {
      "cell_type": "code",
      "source": [
        "test_accuracy = clf.score(X_test, y_test)\n",
        "probs = clf.predict_proba(X_test)[:, 1]\n",
        "f1_accuracy = f1_score(y_test,results,average='macro')\n",
        "f1_accuracym = f1_score(y_test,results,average='micro')\n",
        "f1_accuracyw = f1_score(y_test,results,average='weighted')\n",
        "print(\"Accuracy on test data: \" ,test_accuracy)\n",
        "print('F1 Score (macro): ', f1_accuracy)\n",
        "print('F1 Score (micro): ', f1_accuracym)\n",
        "print('F1 Score (weighted): ', f1_accuracyw)"
      ],
      "metadata": {
        "colab": {
          "base_uri": "https://localhost:8080/"
        },
        "id": "MlP326SEbPau",
        "outputId": "d4589df7-9b9a-465f-9890-8ce9ad1bd302"
      },
      "execution_count": null,
      "outputs": [
        {
          "output_type": "stream",
          "name": "stdout",
          "text": [
            "Accuracy on test data:  0.6174588665447898\n",
            "F1 Score (macro):  0.6117133583537547\n",
            "F1 Score (micro):  0.6174588665447898\n",
            "F1 Score (weighted):  0.6146338538628872\n"
          ]
        }
      ]
    },
    {
      "cell_type": "code",
      "source": [
        "gbc_cv_acc = test_accuracy\n",
        "gbc_cv_f1 = f1_accuracy\n",
        "gbc_cv_f1m = f1_accuracym\n",
        "gbc_cv_f1w = f1_accuracyw"
      ],
      "metadata": {
        "id": "bZ5MLyohbSWu"
      },
      "execution_count": null,
      "outputs": []
    },
    {
      "cell_type": "markdown",
      "source": [
        "##8. Gradient Boosted Classifier with TFIDF"
      ],
      "metadata": {
        "id": "YpjupALMbXhN"
      }
    },
    {
      "cell_type": "code",
      "source": [
        "steps = [('vec', TfidfVectorizer(stop_words = 'english', ngram_range = (1, 2))), \n",
        "         ('gbc', GradientBoostingClassifier(max_features='sqrt',n_estimators=500))] \n",
        "pipeline = Pipeline(steps) \n",
        "parameters = {'gbc__learning_rate': [0.05, 0.1, 0.15, 0.2, 0.25]}\n",
        "\n",
        "clf = GridSearchCV(pipeline, parameters, cv = 3, scoring=\"accuracy\") \n",
        "clf.fit(X_train, y_train)\n",
        "\n",
        "clf.best_params_\n"
      ],
      "metadata": {
        "colab": {
          "base_uri": "https://localhost:8080/"
        },
        "id": "Mju4IdE0bVe3",
        "outputId": "a2487682-6384-41fd-e377-3dc1a064a3ec"
      },
      "execution_count": null,
      "outputs": [
        {
          "output_type": "execute_result",
          "data": {
            "text/plain": [
              "{'gbc__learning_rate': 0.25}"
            ]
          },
          "metadata": {},
          "execution_count": 77
        }
      ]
    },
    {
      "cell_type": "code",
      "source": [
        "steps = [('vec', TfidfVectorizer(stop_words = 'english', ngram_range = (1, 2))), \n",
        "         ('gbc', GradientBoostingClassifier(learning_rate = 0.25, max_features = 'sqrt', n_estimators = 500))] \n",
        "clf = Pipeline(steps) \n",
        "clf.fit(X_train, y_train)"
      ],
      "metadata": {
        "colab": {
          "base_uri": "https://localhost:8080/"
        },
        "id": "5Z-f003ubdjw",
        "outputId": "e03555bf-7225-452d-f253-98ab63ba227d"
      },
      "execution_count": null,
      "outputs": [
        {
          "output_type": "execute_result",
          "data": {
            "text/plain": [
              "Pipeline(steps=[('vec',\n",
              "                 TfidfVectorizer(ngram_range=(1, 2), stop_words='english')),\n",
              "                ('gbc',\n",
              "                 GradientBoostingClassifier(learning_rate=0.25,\n",
              "                                            max_features='sqrt',\n",
              "                                            n_estimators=500))])"
            ]
          },
          "metadata": {},
          "execution_count": 78
        }
      ]
    },
    {
      "cell_type": "code",
      "source": [
        "filename = 'gbc_tf.sav'\n",
        "pickle.dump(clf, open(filename, 'wb'))"
      ],
      "metadata": {
        "id": "zwZC5LACbgTh"
      },
      "execution_count": null,
      "outputs": []
    },
    {
      "cell_type": "code",
      "source": [
        "filename = 'gbc_tf.sav'\n",
        "clf = pickle.load(open(filename, 'rb'))"
      ],
      "metadata": {
        "id": "aeRe3FsXbivI"
      },
      "execution_count": null,
      "outputs": []
    },
    {
      "cell_type": "code",
      "source": [
        "results = clf.predict(X_test)"
      ],
      "metadata": {
        "id": "53pzs_tXblBI"
      },
      "execution_count": null,
      "outputs": []
    },
    {
      "cell_type": "code",
      "source": [
        "test_accuracy = clf.score(X_test, y_test)\n",
        "probs = clf.predict_proba(X_test)[:, 1]\n",
        "f1_accuracy = f1_score(y_test,results,average='macro')\n",
        "f1_accuracym = f1_score(y_test,results,average='micro')\n",
        "f1_accuracyw = f1_score(y_test,results,average='weighted')\n",
        "print(\"Accuracy on test data: \" ,test_accuracy)\n",
        "print('F1 Score (macro): ', f1_accuracy)\n",
        "print('F1 Score (micro): ', f1_accuracym)\n",
        "print('F1 Score (weighted): ', f1_accuracyw)"
      ],
      "metadata": {
        "colab": {
          "base_uri": "https://localhost:8080/"
        },
        "id": "WJ3CYcw1bnQz",
        "outputId": "0f32c79d-a158-43b0-e31d-3081ba90f020"
      },
      "execution_count": null,
      "outputs": [
        {
          "output_type": "stream",
          "name": "stdout",
          "text": [
            "Accuracy on test data:  0.620201096892139\n",
            "F1 Score (macro):  0.6173094065564353\n",
            "F1 Score (micro):  0.620201096892139\n",
            "F1 Score (weighted):  0.6174359319272908\n"
          ]
        }
      ]
    },
    {
      "cell_type": "code",
      "source": [
        "gbc_tf_acc = test_accuracy\n",
        "gbc_tf_f1 = f1_accuracy\n",
        "gbc_tf_f1m = f1_accuracym\n",
        "gbc_tf_f1w = f1_accuracyw"
      ],
      "metadata": {
        "id": "7i0uAU7Nbpro"
      },
      "execution_count": null,
      "outputs": []
    },
    {
      "cell_type": "markdown",
      "source": [
        "##Results"
      ],
      "metadata": {
        "id": "NEgljsdLbu44"
      }
    },
    {
      "cell_type": "code",
      "source": [
        "result2 = pd.DataFrame({'Model':['NB_CV', 'NB_TF', 'GBC_CV', 'GBC_TF'],\n",
        "             'Accuracy':[nb_cv_acc, nb_tf_acc, gbc_cv_acc, gbc_tf_acc],\n",
        "             'F1_Macro':[nb_cv_f1, nb_tf_f1, gbc_cv_f1, gbc_tf_f1],\n",
        "             'F1_Micro':[nb_cv_f1m, nb_tf_f1m, gbc_cv_f1m, gbc_tf_f1m],\n",
        "             'F1_Weighted':[nb_cv_f1w, nb_tf_f1w, gbc_cv_f1w, gbc_tf_f1w]})\n",
        "result2 = result2.round(3)\n",
        "result2"
      ],
      "metadata": {
        "colab": {
          "base_uri": "https://localhost:8080/",
          "height": 175
        },
        "id": "tJyPmuxDbsJw",
        "outputId": "eac9690c-b626-4ab1-d908-ba638011af57"
      },
      "execution_count": null,
      "outputs": [
        {
          "output_type": "execute_result",
          "data": {
            "text/plain": [
              "    Model  Accuracy  F1_Macro  F1_Micro  F1_Weighted\n",
              "0   NB_CV     0.602     0.608     0.602        0.601\n",
              "1   NB_TF     0.580     0.567     0.580        0.573\n",
              "2  GBC_CV     0.617     0.612     0.617        0.615\n",
              "3  GBC_TF     0.620     0.617     0.620        0.617"
            ],
            "text/html": [
              "\n",
              "  <div id=\"df-14d9fac2-b26c-4c0d-90d4-ce8b901a215b\">\n",
              "    <div class=\"colab-df-container\">\n",
              "      <div>\n",
              "<style scoped>\n",
              "    .dataframe tbody tr th:only-of-type {\n",
              "        vertical-align: middle;\n",
              "    }\n",
              "\n",
              "    .dataframe tbody tr th {\n",
              "        vertical-align: top;\n",
              "    }\n",
              "\n",
              "    .dataframe thead th {\n",
              "        text-align: right;\n",
              "    }\n",
              "</style>\n",
              "<table border=\"1\" class=\"dataframe\">\n",
              "  <thead>\n",
              "    <tr style=\"text-align: right;\">\n",
              "      <th></th>\n",
              "      <th>Model</th>\n",
              "      <th>Accuracy</th>\n",
              "      <th>F1_Macro</th>\n",
              "      <th>F1_Micro</th>\n",
              "      <th>F1_Weighted</th>\n",
              "    </tr>\n",
              "  </thead>\n",
              "  <tbody>\n",
              "    <tr>\n",
              "      <th>0</th>\n",
              "      <td>NB_CV</td>\n",
              "      <td>0.602</td>\n",
              "      <td>0.608</td>\n",
              "      <td>0.602</td>\n",
              "      <td>0.601</td>\n",
              "    </tr>\n",
              "    <tr>\n",
              "      <th>1</th>\n",
              "      <td>NB_TF</td>\n",
              "      <td>0.580</td>\n",
              "      <td>0.567</td>\n",
              "      <td>0.580</td>\n",
              "      <td>0.573</td>\n",
              "    </tr>\n",
              "    <tr>\n",
              "      <th>2</th>\n",
              "      <td>GBC_CV</td>\n",
              "      <td>0.617</td>\n",
              "      <td>0.612</td>\n",
              "      <td>0.617</td>\n",
              "      <td>0.615</td>\n",
              "    </tr>\n",
              "    <tr>\n",
              "      <th>3</th>\n",
              "      <td>GBC_TF</td>\n",
              "      <td>0.620</td>\n",
              "      <td>0.617</td>\n",
              "      <td>0.620</td>\n",
              "      <td>0.617</td>\n",
              "    </tr>\n",
              "  </tbody>\n",
              "</table>\n",
              "</div>\n",
              "      <button class=\"colab-df-convert\" onclick=\"convertToInteractive('df-14d9fac2-b26c-4c0d-90d4-ce8b901a215b')\"\n",
              "              title=\"Convert this dataframe to an interactive table.\"\n",
              "              style=\"display:none;\">\n",
              "        \n",
              "  <svg xmlns=\"http://www.w3.org/2000/svg\" height=\"24px\"viewBox=\"0 0 24 24\"\n",
              "       width=\"24px\">\n",
              "    <path d=\"M0 0h24v24H0V0z\" fill=\"none\"/>\n",
              "    <path d=\"M18.56 5.44l.94 2.06.94-2.06 2.06-.94-2.06-.94-.94-2.06-.94 2.06-2.06.94zm-11 1L8.5 8.5l.94-2.06 2.06-.94-2.06-.94L8.5 2.5l-.94 2.06-2.06.94zm10 10l.94 2.06.94-2.06 2.06-.94-2.06-.94-.94-2.06-.94 2.06-2.06.94z\"/><path d=\"M17.41 7.96l-1.37-1.37c-.4-.4-.92-.59-1.43-.59-.52 0-1.04.2-1.43.59L10.3 9.45l-7.72 7.72c-.78.78-.78 2.05 0 2.83L4 21.41c.39.39.9.59 1.41.59.51 0 1.02-.2 1.41-.59l7.78-7.78 2.81-2.81c.8-.78.8-2.07 0-2.86zM5.41 20L4 18.59l7.72-7.72 1.47 1.35L5.41 20z\"/>\n",
              "  </svg>\n",
              "      </button>\n",
              "      \n",
              "  <style>\n",
              "    .colab-df-container {\n",
              "      display:flex;\n",
              "      flex-wrap:wrap;\n",
              "      gap: 12px;\n",
              "    }\n",
              "\n",
              "    .colab-df-convert {\n",
              "      background-color: #E8F0FE;\n",
              "      border: none;\n",
              "      border-radius: 50%;\n",
              "      cursor: pointer;\n",
              "      display: none;\n",
              "      fill: #1967D2;\n",
              "      height: 32px;\n",
              "      padding: 0 0 0 0;\n",
              "      width: 32px;\n",
              "    }\n",
              "\n",
              "    .colab-df-convert:hover {\n",
              "      background-color: #E2EBFA;\n",
              "      box-shadow: 0px 1px 2px rgba(60, 64, 67, 0.3), 0px 1px 3px 1px rgba(60, 64, 67, 0.15);\n",
              "      fill: #174EA6;\n",
              "    }\n",
              "\n",
              "    [theme=dark] .colab-df-convert {\n",
              "      background-color: #3B4455;\n",
              "      fill: #D2E3FC;\n",
              "    }\n",
              "\n",
              "    [theme=dark] .colab-df-convert:hover {\n",
              "      background-color: #434B5C;\n",
              "      box-shadow: 0px 1px 3px 1px rgba(0, 0, 0, 0.15);\n",
              "      filter: drop-shadow(0px 1px 2px rgba(0, 0, 0, 0.3));\n",
              "      fill: #FFFFFF;\n",
              "    }\n",
              "  </style>\n",
              "\n",
              "      <script>\n",
              "        const buttonEl =\n",
              "          document.querySelector('#df-14d9fac2-b26c-4c0d-90d4-ce8b901a215b button.colab-df-convert');\n",
              "        buttonEl.style.display =\n",
              "          google.colab.kernel.accessAllowed ? 'block' : 'none';\n",
              "\n",
              "        async function convertToInteractive(key) {\n",
              "          const element = document.querySelector('#df-14d9fac2-b26c-4c0d-90d4-ce8b901a215b');\n",
              "          const dataTable =\n",
              "            await google.colab.kernel.invokeFunction('convertToInteractive',\n",
              "                                                     [key], {});\n",
              "          if (!dataTable) return;\n",
              "\n",
              "          const docLinkHtml = 'Like what you see? Visit the ' +\n",
              "            '<a target=\"_blank\" href=https://colab.research.google.com/notebooks/data_table.ipynb>data table notebook</a>'\n",
              "            + ' to learn more about interactive tables.';\n",
              "          element.innerHTML = '';\n",
              "          dataTable['output_type'] = 'display_data';\n",
              "          await google.colab.output.renderOutput(dataTable, element);\n",
              "          const docLink = document.createElement('div');\n",
              "          docLink.innerHTML = docLinkHtml;\n",
              "          element.appendChild(docLink);\n",
              "        }\n",
              "      </script>\n",
              "    </div>\n",
              "  </div>\n",
              "  "
            ]
          },
          "metadata": {},
          "execution_count": 84
        }
      ]
    },
    {
      "cell_type": "markdown",
      "source": [
        "##Ensembling Techniques\n",
        "We will combine the results from the best two models above. We'll calculate the sparse/dense matrix of all the review's text and run it through the Naive Bayes TFIDF model to get a probability for each classification group.\n",
        "\n",
        "Dense + Sparse Features"
      ],
      "metadata": {
        "id": "GfhYCn9HhOy0"
      }
    },
    {
      "cell_type": "code",
      "source": [
        "df_combined = yelp_data\n",
        "df_combined['text'] = yelp_data['Review']\n",
        "vec = TfidfVectorizer(stop_words = 'english', ngram_range = (1, 2))\n",
        "vec_fit = vec.fit(df_combined.text)\n",
        "sf = vec.fit_transform(df_combined.text)\n",
        "sf"
      ],
      "metadata": {
        "colab": {
          "base_uri": "https://localhost:8080/"
        },
        "id": "A3_xbPR0bybJ",
        "outputId": "662d4fd7-106c-45e5-dee0-71d25e991cc6"
      },
      "execution_count": null,
      "outputs": [
        {
          "output_type": "execute_result",
          "data": {
            "text/plain": [
              "<10937x348260 sparse matrix of type '<class 'numpy.float64'>'\n",
              "\twith 1009478 stored elements in Compressed Sparse Row format>"
            ]
          },
          "metadata": {},
          "execution_count": 85
        }
      ]
    },
    {
      "cell_type": "code",
      "source": [
        "from sklearn.preprocessing import MinMaxScaler\n",
        "\n",
        "dense_feat = df_combined.drop(['Name', 'Review', 'Sentiment','text'],axis=1)\n",
        "\n",
        "ss = MinMaxScaler()\n",
        "\n",
        "dense_feat = ss.fit_transform(dense_feat)\n",
        "dense_feat"
      ],
      "metadata": {
        "colab": {
          "base_uri": "https://localhost:8080/"
        },
        "id": "bl6AMvbGwuQ2",
        "outputId": "44dc86ac-cbbc-4bb1-98dd-c0a5a2252545"
      },
      "execution_count": null,
      "outputs": [
        {
          "output_type": "execute_result",
          "data": {
            "text/plain": [
              "array([[0.75      , 0.34920635, 0.        , ..., 0.        , 0.        ,\n",
              "        0.        ],\n",
              "       [0.66944444, 0.32512315, 0.        , ..., 0.        , 0.        ,\n",
              "        0.        ],\n",
              "       [0.65729167, 0.20496894, 0.        , ..., 0.        , 0.        ,\n",
              "        0.        ],\n",
              "       ...,\n",
              "       [0.6875    , 0.3343465 , 0.        , ..., 0.        , 0.        ,\n",
              "        0.        ],\n",
              "       [0.4953125 , 0.15207373, 0.        , ..., 0.        , 0.        ,\n",
              "        0.        ],\n",
              "       [0.53333333, 0.20952381, 0.        , ..., 0.        , 0.        ,\n",
              "        0.        ]])"
            ]
          },
          "metadata": {},
          "execution_count": 86
        }
      ]
    },
    {
      "cell_type": "code",
      "source": [
        "from scipy.sparse import coo_matrix, hstack\n",
        "\n",
        "dense_feat = coo_matrix(dense_feat)\n",
        "dense_feat"
      ],
      "metadata": {
        "colab": {
          "base_uri": "https://localhost:8080/"
        },
        "id": "QfG7hqgvwxvp",
        "outputId": "395c848e-11ad-4388-d6c5-468bd768eb7f"
      },
      "execution_count": null,
      "outputs": [
        {
          "output_type": "execute_result",
          "data": {
            "text/plain": [
              "<10937x1758 sparse matrix of type '<class 'numpy.float64'>'\n",
              "\twith 474230 stored elements in COOrdinate format>"
            ]
          },
          "metadata": {},
          "execution_count": 87
        }
      ]
    },
    {
      "cell_type": "code",
      "source": [
        "# new training data with the same text but in dense matrix format\n",
        "\n",
        "X = hstack([sf, dense_feat.astype(float)])\n",
        "y = yelp_data.Sentiment\n",
        "indices = yelp_data.index"
      ],
      "metadata": {
        "id": "qBXv9QZyw9yX"
      },
      "execution_count": null,
      "outputs": []
    },
    {
      "cell_type": "code",
      "source": [
        "# same size, random state\n",
        "\n",
        "X_train, X_test, y_train, y_test, i_train, i_test = train_test_split(X, y, indices, train_size = 0.8, random_state = 7)"
      ],
      "metadata": {
        "id": "fIj2HcsAxAwm"
      },
      "execution_count": null,
      "outputs": []
    },
    {
      "cell_type": "code",
      "source": [
        "X_train"
      ],
      "metadata": {
        "colab": {
          "base_uri": "https://localhost:8080/"
        },
        "id": "xMcvYMTOxD6a",
        "outputId": "ace7ba15-88d3-4630-98c3-d7b08843d6fe"
      },
      "execution_count": null,
      "outputs": [
        {
          "output_type": "execute_result",
          "data": {
            "text/plain": [
              "<8749x350018 sparse matrix of type '<class 'numpy.float64'>'\n",
              "\twith 1194914 stored elements in Compressed Sparse Row format>"
            ]
          },
          "metadata": {},
          "execution_count": 90
        }
      ]
    },
    {
      "cell_type": "markdown",
      "source": [
        "##9. Naive Bayes Probability with dense + sparse features"
      ],
      "metadata": {
        "id": "bRG6ujS9xIsK"
      }
    },
    {
      "cell_type": "code",
      "source": [
        "steps = [('nb', MultinomialNB())] \n",
        "pipeline = Pipeline(steps) \n",
        "parameters = {'nb__alpha':[0.01, 0.1, 1, 10, 100]}\n",
        "\n",
        "clf = GridSearchCV(pipeline, parameters, cv = 10, scoring=\"accuracy\") \n",
        "clf.fit(X_train, y_train)\n",
        "\n",
        "clf.best_params_"
      ],
      "metadata": {
        "colab": {
          "base_uri": "https://localhost:8080/"
        },
        "id": "g3lnI_gqxFQf",
        "outputId": "0cdf0e9d-4843-4ba6-858f-cb570a431471"
      },
      "execution_count": null,
      "outputs": [
        {
          "output_type": "execute_result",
          "data": {
            "text/plain": [
              "{'nb__alpha': 0.01}"
            ]
          },
          "metadata": {},
          "execution_count": 91
        }
      ]
    },
    {
      "cell_type": "code",
      "source": [
        "filename = 'stacked_nb_ds.sav'\n",
        "pickle.dump(clf, open(filename, 'wb'))"
      ],
      "metadata": {
        "id": "BSDRbIqNym98"
      },
      "execution_count": null,
      "outputs": []
    },
    {
      "cell_type": "code",
      "source": [
        "filename = 'stacked_nb_ds.sav'\n",
        "clf = pickle.load(open(filename, 'rb'))"
      ],
      "metadata": {
        "id": "fZZQqduCynfj"
      },
      "execution_count": null,
      "outputs": []
    },
    {
      "cell_type": "code",
      "source": [
        "results = clf.predict(X_test)"
      ],
      "metadata": {
        "id": "NRe2je6KypOq"
      },
      "execution_count": null,
      "outputs": []
    },
    {
      "cell_type": "code",
      "source": [
        "test_accuracy = clf.score(X_test, y_test)\n",
        "probs = clf.predict_proba(X_test)[:, 1]\n",
        "f1_accuracy = f1_score(y_test,results,average='macro')\n",
        "f1_accuracym = f1_score(y_test,results,average='micro')\n",
        "f1_accuracyw = f1_score(y_test,results,average='weighted')\n",
        "print(\"Accuracy on test data: \" ,test_accuracy)\n",
        "print('F1 Score (macro): ', f1_accuracy)\n",
        "print('F1 Score (micro): ', f1_accuracym)\n",
        "print('F1 Score (weighted): ', f1_accuracyw)"
      ],
      "metadata": {
        "colab": {
          "base_uri": "https://localhost:8080/"
        },
        "id": "5T09CVE6yrGu",
        "outputId": "ffb2acec-0f2a-4f7c-cc80-b6bf2910b10f"
      },
      "execution_count": null,
      "outputs": [
        {
          "output_type": "stream",
          "name": "stdout",
          "text": [
            "Accuracy on test data:  0.6229433272394881\n",
            "F1 Score (macro):  0.6287632176446767\n",
            "F1 Score (micro):  0.6229433272394881\n",
            "F1 Score (weighted):  0.6192143544095189\n"
          ]
        }
      ]
    },
    {
      "cell_type": "code",
      "source": [
        "stacked_nb_ds_acc = test_accuracy\n",
        "stacked_nb_ds_f1 = f1_accuracy\n",
        "stacked_nb_ds_f1m = f1_accuracym\n",
        "stacked_nb_ds_f1w = f1_accuracyw"
      ],
      "metadata": {
        "id": "A5qL39xQytnV"
      },
      "execution_count": null,
      "outputs": []
    },
    {
      "cell_type": "markdown",
      "source": [
        "##Stacked Model (dense and sparse features + numerical features)"
      ],
      "metadata": {
        "id": "5On7OZAazYKl"
      }
    },
    {
      "cell_type": "code",
      "source": [
        "X = yelp_data.Review\n",
        "y = yelp_data.Sentiment\n",
        "indices = yelp_data.index\n",
        "\n",
        "X_train, X_test, y_train, y_test, i_train, i_test = train_test_split(X, y, indices, train_size = 0.8, random_state = 7)"
      ],
      "metadata": {
        "id": "5IvtEMTAzXv8"
      },
      "execution_count": null,
      "outputs": []
    },
    {
      "cell_type": "code",
      "source": [
        "steps = [('vec', CountVectorizer(stop_words = 'english', ngram_range = (1, 2))),\n",
        "         ('nb', MultinomialNB())]\n",
        "pipeline = Pipeline(steps)\n",
        "parameters = {'vec__min_df':[0.01, 0.1, 1, 10, 100],\n",
        "              'nb__alpha':[0.01, 0.1, 1, 10, 100]}\n",
        "\n",
        "clf = GridSearchCV(pipeline, parameters, cv = 10, scoring=\"accuracy\")\n",
        "clf.fit(X_train, y_train)"
      ],
      "metadata": {
        "colab": {
          "base_uri": "https://localhost:8080/"
        },
        "id": "gJMu4__Gzgah",
        "outputId": "7c59c154-9288-4f5d-e237-213ed711216d"
      },
      "execution_count": null,
      "outputs": [
        {
          "output_type": "execute_result",
          "data": {
            "text/plain": [
              "GridSearchCV(cv=10,\n",
              "             estimator=Pipeline(steps=[('vec',\n",
              "                                        CountVectorizer(ngram_range=(1, 2),\n",
              "                                                        stop_words='english')),\n",
              "                                       ('nb', MultinomialNB())]),\n",
              "             param_grid={'nb__alpha': [0.01, 0.1, 1, 10, 100],\n",
              "                         'vec__min_df': [0.01, 0.1, 1, 10, 100]},\n",
              "             scoring='accuracy')"
            ]
          },
          "metadata": {},
          "execution_count": 98
        }
      ]
    },
    {
      "cell_type": "code",
      "source": [
        "clf.best_params_"
      ],
      "metadata": {
        "colab": {
          "base_uri": "https://localhost:8080/"
        },
        "id": "eKR6_-D-zi0Y",
        "outputId": "bd1dc2f2-1699-4532-f5e5-d66548f25025"
      },
      "execution_count": null,
      "outputs": [
        {
          "output_type": "execute_result",
          "data": {
            "text/plain": [
              "{'nb__alpha': 1, 'vec__min_df': 10}"
            ]
          },
          "metadata": {},
          "execution_count": 99
        }
      ]
    },
    {
      "cell_type": "code",
      "source": [
        "Xtrain_proba = pd.DataFrame(clf.predict_proba(X_train), index = i_train)\n",
        "Xtest_proba = pd.DataFrame(clf.predict_proba(X_test), index = i_test)"
      ],
      "metadata": {
        "id": "J4EIqxelzmrS"
      },
      "execution_count": null,
      "outputs": []
    },
    {
      "cell_type": "code",
      "source": [
        "# removing 'text' feature because we already have 'Review' column\n",
        "yelp_data = yelp_data.drop(labels='text',axis=1)"
      ],
      "metadata": {
        "id": "QyspxbRxzqo5"
      },
      "execution_count": null,
      "outputs": []
    },
    {
      "cell_type": "code",
      "source": [
        "X = yelp_data.iloc[0:,4:]\n",
        "y = yelp_data.Sentiment\n",
        "indices = yelp_data.index\n",
        "\n",
        "X_train, X_test, y_train, y_test, itrain, itest = train_test_split(X,y,indices,train_size=0.8,random_state=7)"
      ],
      "metadata": {
        "id": "dmxme8BkztD7"
      },
      "execution_count": null,
      "outputs": []
    },
    {
      "cell_type": "code",
      "source": [
        "Xtrain_combined = pd.merge(X_train, Xtrain_proba, left_index=True, right_index=True)\n",
        "Xtest_combined = pd.merge(X_test, Xtest_proba, left_index=True, right_index=True)"
      ],
      "metadata": {
        "id": "nffjmI22zv3N"
      },
      "execution_count": null,
      "outputs": []
    },
    {
      "cell_type": "code",
      "source": [
        "Xtrain_combined.head()"
      ],
      "metadata": {
        "colab": {
          "base_uri": "https://localhost:8080/",
          "height": 404
        },
        "id": "QczWC9wlzzK_",
        "outputId": "b2667893-e093-4eb4-fb42-396f8f1c80dc"
      },
      "execution_count": null,
      "outputs": [
        {
          "output_type": "execute_result",
          "data": {
            "text/plain": [
              "      Positive_Words_P  chocol  cup  amaz  eat  year  alway  tast  fantast  \\\n",
              "2543          0.156863     0.0  0.0   0.0  0.0   0.0    0.0   0.0      0.0   \n",
              "8331          0.138298     0.0  0.0   0.0  0.0   0.0    0.0   0.0      0.0   \n",
              "667           0.050000     0.0  0.0   0.0  0.0   0.0    0.0   0.0      0.0   \n",
              "7612          0.346154     0.0  0.0   0.0  0.0   0.0    0.0   0.0      0.0   \n",
              "3559          0.151786     0.0  0.0   0.0  0.0   0.0    0.0   0.0      0.0   \n",
              "\n",
              "      park  ...  juliana  pool tabl  castl  falafel  paella  white castl  \\\n",
              "2543   0.0  ...      0.0        0.0    0.0      0.0     0.0          0.0   \n",
              "8331   0.0  ...      0.0        0.0    0.0      0.0     0.0          0.0   \n",
              "667    0.0  ...      0.0        0.0    0.0      0.0     0.0          0.0   \n",
              "7612   0.0  ...      0.0        0.0    0.0      0.0     0.0          0.0   \n",
              "3559   0.0  ...      0.0        0.0    0.0      0.0     0.0          0.0   \n",
              "\n",
              "                 0             1             2             3  \n",
              "2543  9.114947e-05  1.541318e-05  3.984414e-02  9.600493e-01  \n",
              "8331  9.937345e-01  2.828074e-20  6.265533e-03  7.707989e-15  \n",
              "667   8.872112e-01  8.075827e-06  1.064884e-01  6.292371e-03  \n",
              "7612  1.174181e-21  9.999906e-01  4.811812e-12  9.376999e-06  \n",
              "3559  2.053725e-26  5.983086e-10  5.584656e-10  1.000000e+00  \n",
              "\n",
              "[5 rows x 1761 columns]"
            ],
            "text/html": [
              "\n",
              "  <div id=\"df-9b9acf81-b41a-439a-bf16-9b3d3767dfb7\">\n",
              "    <div class=\"colab-df-container\">\n",
              "      <div>\n",
              "<style scoped>\n",
              "    .dataframe tbody tr th:only-of-type {\n",
              "        vertical-align: middle;\n",
              "    }\n",
              "\n",
              "    .dataframe tbody tr th {\n",
              "        vertical-align: top;\n",
              "    }\n",
              "\n",
              "    .dataframe thead th {\n",
              "        text-align: right;\n",
              "    }\n",
              "</style>\n",
              "<table border=\"1\" class=\"dataframe\">\n",
              "  <thead>\n",
              "    <tr style=\"text-align: right;\">\n",
              "      <th></th>\n",
              "      <th>Positive_Words_P</th>\n",
              "      <th>chocol</th>\n",
              "      <th>cup</th>\n",
              "      <th>amaz</th>\n",
              "      <th>eat</th>\n",
              "      <th>year</th>\n",
              "      <th>alway</th>\n",
              "      <th>tast</th>\n",
              "      <th>fantast</th>\n",
              "      <th>park</th>\n",
              "      <th>...</th>\n",
              "      <th>juliana</th>\n",
              "      <th>pool tabl</th>\n",
              "      <th>castl</th>\n",
              "      <th>falafel</th>\n",
              "      <th>paella</th>\n",
              "      <th>white castl</th>\n",
              "      <th>0</th>\n",
              "      <th>1</th>\n",
              "      <th>2</th>\n",
              "      <th>3</th>\n",
              "    </tr>\n",
              "  </thead>\n",
              "  <tbody>\n",
              "    <tr>\n",
              "      <th>2543</th>\n",
              "      <td>0.156863</td>\n",
              "      <td>0.0</td>\n",
              "      <td>0.0</td>\n",
              "      <td>0.0</td>\n",
              "      <td>0.0</td>\n",
              "      <td>0.0</td>\n",
              "      <td>0.0</td>\n",
              "      <td>0.0</td>\n",
              "      <td>0.0</td>\n",
              "      <td>0.0</td>\n",
              "      <td>...</td>\n",
              "      <td>0.0</td>\n",
              "      <td>0.0</td>\n",
              "      <td>0.0</td>\n",
              "      <td>0.0</td>\n",
              "      <td>0.0</td>\n",
              "      <td>0.0</td>\n",
              "      <td>9.114947e-05</td>\n",
              "      <td>1.541318e-05</td>\n",
              "      <td>3.984414e-02</td>\n",
              "      <td>9.600493e-01</td>\n",
              "    </tr>\n",
              "    <tr>\n",
              "      <th>8331</th>\n",
              "      <td>0.138298</td>\n",
              "      <td>0.0</td>\n",
              "      <td>0.0</td>\n",
              "      <td>0.0</td>\n",
              "      <td>0.0</td>\n",
              "      <td>0.0</td>\n",
              "      <td>0.0</td>\n",
              "      <td>0.0</td>\n",
              "      <td>0.0</td>\n",
              "      <td>0.0</td>\n",
              "      <td>...</td>\n",
              "      <td>0.0</td>\n",
              "      <td>0.0</td>\n",
              "      <td>0.0</td>\n",
              "      <td>0.0</td>\n",
              "      <td>0.0</td>\n",
              "      <td>0.0</td>\n",
              "      <td>9.937345e-01</td>\n",
              "      <td>2.828074e-20</td>\n",
              "      <td>6.265533e-03</td>\n",
              "      <td>7.707989e-15</td>\n",
              "    </tr>\n",
              "    <tr>\n",
              "      <th>667</th>\n",
              "      <td>0.050000</td>\n",
              "      <td>0.0</td>\n",
              "      <td>0.0</td>\n",
              "      <td>0.0</td>\n",
              "      <td>0.0</td>\n",
              "      <td>0.0</td>\n",
              "      <td>0.0</td>\n",
              "      <td>0.0</td>\n",
              "      <td>0.0</td>\n",
              "      <td>0.0</td>\n",
              "      <td>...</td>\n",
              "      <td>0.0</td>\n",
              "      <td>0.0</td>\n",
              "      <td>0.0</td>\n",
              "      <td>0.0</td>\n",
              "      <td>0.0</td>\n",
              "      <td>0.0</td>\n",
              "      <td>8.872112e-01</td>\n",
              "      <td>8.075827e-06</td>\n",
              "      <td>1.064884e-01</td>\n",
              "      <td>6.292371e-03</td>\n",
              "    </tr>\n",
              "    <tr>\n",
              "      <th>7612</th>\n",
              "      <td>0.346154</td>\n",
              "      <td>0.0</td>\n",
              "      <td>0.0</td>\n",
              "      <td>0.0</td>\n",
              "      <td>0.0</td>\n",
              "      <td>0.0</td>\n",
              "      <td>0.0</td>\n",
              "      <td>0.0</td>\n",
              "      <td>0.0</td>\n",
              "      <td>0.0</td>\n",
              "      <td>...</td>\n",
              "      <td>0.0</td>\n",
              "      <td>0.0</td>\n",
              "      <td>0.0</td>\n",
              "      <td>0.0</td>\n",
              "      <td>0.0</td>\n",
              "      <td>0.0</td>\n",
              "      <td>1.174181e-21</td>\n",
              "      <td>9.999906e-01</td>\n",
              "      <td>4.811812e-12</td>\n",
              "      <td>9.376999e-06</td>\n",
              "    </tr>\n",
              "    <tr>\n",
              "      <th>3559</th>\n",
              "      <td>0.151786</td>\n",
              "      <td>0.0</td>\n",
              "      <td>0.0</td>\n",
              "      <td>0.0</td>\n",
              "      <td>0.0</td>\n",
              "      <td>0.0</td>\n",
              "      <td>0.0</td>\n",
              "      <td>0.0</td>\n",
              "      <td>0.0</td>\n",
              "      <td>0.0</td>\n",
              "      <td>...</td>\n",
              "      <td>0.0</td>\n",
              "      <td>0.0</td>\n",
              "      <td>0.0</td>\n",
              "      <td>0.0</td>\n",
              "      <td>0.0</td>\n",
              "      <td>0.0</td>\n",
              "      <td>2.053725e-26</td>\n",
              "      <td>5.983086e-10</td>\n",
              "      <td>5.584656e-10</td>\n",
              "      <td>1.000000e+00</td>\n",
              "    </tr>\n",
              "  </tbody>\n",
              "</table>\n",
              "<p>5 rows × 1761 columns</p>\n",
              "</div>\n",
              "      <button class=\"colab-df-convert\" onclick=\"convertToInteractive('df-9b9acf81-b41a-439a-bf16-9b3d3767dfb7')\"\n",
              "              title=\"Convert this dataframe to an interactive table.\"\n",
              "              style=\"display:none;\">\n",
              "        \n",
              "  <svg xmlns=\"http://www.w3.org/2000/svg\" height=\"24px\"viewBox=\"0 0 24 24\"\n",
              "       width=\"24px\">\n",
              "    <path d=\"M0 0h24v24H0V0z\" fill=\"none\"/>\n",
              "    <path d=\"M18.56 5.44l.94 2.06.94-2.06 2.06-.94-2.06-.94-.94-2.06-.94 2.06-2.06.94zm-11 1L8.5 8.5l.94-2.06 2.06-.94-2.06-.94L8.5 2.5l-.94 2.06-2.06.94zm10 10l.94 2.06.94-2.06 2.06-.94-2.06-.94-.94-2.06-.94 2.06-2.06.94z\"/><path d=\"M17.41 7.96l-1.37-1.37c-.4-.4-.92-.59-1.43-.59-.52 0-1.04.2-1.43.59L10.3 9.45l-7.72 7.72c-.78.78-.78 2.05 0 2.83L4 21.41c.39.39.9.59 1.41.59.51 0 1.02-.2 1.41-.59l7.78-7.78 2.81-2.81c.8-.78.8-2.07 0-2.86zM5.41 20L4 18.59l7.72-7.72 1.47 1.35L5.41 20z\"/>\n",
              "  </svg>\n",
              "      </button>\n",
              "      \n",
              "  <style>\n",
              "    .colab-df-container {\n",
              "      display:flex;\n",
              "      flex-wrap:wrap;\n",
              "      gap: 12px;\n",
              "    }\n",
              "\n",
              "    .colab-df-convert {\n",
              "      background-color: #E8F0FE;\n",
              "      border: none;\n",
              "      border-radius: 50%;\n",
              "      cursor: pointer;\n",
              "      display: none;\n",
              "      fill: #1967D2;\n",
              "      height: 32px;\n",
              "      padding: 0 0 0 0;\n",
              "      width: 32px;\n",
              "    }\n",
              "\n",
              "    .colab-df-convert:hover {\n",
              "      background-color: #E2EBFA;\n",
              "      box-shadow: 0px 1px 2px rgba(60, 64, 67, 0.3), 0px 1px 3px 1px rgba(60, 64, 67, 0.15);\n",
              "      fill: #174EA6;\n",
              "    }\n",
              "\n",
              "    [theme=dark] .colab-df-convert {\n",
              "      background-color: #3B4455;\n",
              "      fill: #D2E3FC;\n",
              "    }\n",
              "\n",
              "    [theme=dark] .colab-df-convert:hover {\n",
              "      background-color: #434B5C;\n",
              "      box-shadow: 0px 1px 3px 1px rgba(0, 0, 0, 0.15);\n",
              "      filter: drop-shadow(0px 1px 2px rgba(0, 0, 0, 0.3));\n",
              "      fill: #FFFFFF;\n",
              "    }\n",
              "  </style>\n",
              "\n",
              "      <script>\n",
              "        const buttonEl =\n",
              "          document.querySelector('#df-9b9acf81-b41a-439a-bf16-9b3d3767dfb7 button.colab-df-convert');\n",
              "        buttonEl.style.display =\n",
              "          google.colab.kernel.accessAllowed ? 'block' : 'none';\n",
              "\n",
              "        async function convertToInteractive(key) {\n",
              "          const element = document.querySelector('#df-9b9acf81-b41a-439a-bf16-9b3d3767dfb7');\n",
              "          const dataTable =\n",
              "            await google.colab.kernel.invokeFunction('convertToInteractive',\n",
              "                                                     [key], {});\n",
              "          if (!dataTable) return;\n",
              "\n",
              "          const docLinkHtml = 'Like what you see? Visit the ' +\n",
              "            '<a target=\"_blank\" href=https://colab.research.google.com/notebooks/data_table.ipynb>data table notebook</a>'\n",
              "            + ' to learn more about interactive tables.';\n",
              "          element.innerHTML = '';\n",
              "          dataTable['output_type'] = 'display_data';\n",
              "          await google.colab.output.renderOutput(dataTable, element);\n",
              "          const docLink = document.createElement('div');\n",
              "          docLink.innerHTML = docLinkHtml;\n",
              "          element.appendChild(docLink);\n",
              "        }\n",
              "      </script>\n",
              "    </div>\n",
              "  </div>\n",
              "  "
            ]
          },
          "metadata": {},
          "execution_count": 104
        }
      ]
    },
    {
      "cell_type": "code",
      "source": [
        "steps = [('scaler', StandardScaler()), ('gbc', GradientBoostingClassifier(max_features='sqrt'))] \n",
        "pipeline = Pipeline(steps) \n",
        "parameters = {'gbc__n_estimators':[10, 50, 100, 200, 500], 'gbc__learning_rate': [0.05, 0.1, 0.15, 0.2, 0.25]}\n",
        "\n",
        "clf = GridSearchCV(pipeline, parameters, cv = 10, scoring=\"accuracy\") \n",
        "clf.fit(X_train, y_train)\n",
        "\n",
        "clf.best_params_"
      ],
      "metadata": {
        "colab": {
          "base_uri": "https://localhost:8080/"
        },
        "id": "AvuKVEpbz3bV",
        "outputId": "2ac80935-69d1-4683-f9a7-7f24dce7769e"
      },
      "execution_count": null,
      "outputs": [
        {
          "output_type": "execute_result",
          "data": {
            "text/plain": [
              "{'gbc__learning_rate': 0.2, 'gbc__n_estimators': 500}"
            ]
          },
          "metadata": {},
          "execution_count": 105
        }
      ]
    },
    {
      "cell_type": "code",
      "source": [
        "steps = [('scaler', StandardScaler()), ('gbc', GradientBoostingClassifier(learning_rate = 0.2, max_features = 'sqrt', n_estimators = 500))] \n",
        "clf = Pipeline(steps) \n",
        "clf.fit(X_train, y_train)"
      ],
      "metadata": {
        "colab": {
          "base_uri": "https://localhost:8080/"
        },
        "id": "UPaiOTqg-8KC",
        "outputId": "3c6b6b42-472b-4a12-f04b-212df22489c9"
      },
      "execution_count": null,
      "outputs": [
        {
          "output_type": "execute_result",
          "data": {
            "text/plain": [
              "Pipeline(steps=[('scaler', StandardScaler()),\n",
              "                ('gbc',\n",
              "                 GradientBoostingClassifier(learning_rate=0.2,\n",
              "                                            max_features='sqrt',\n",
              "                                            n_estimators=500))])"
            ]
          },
          "metadata": {},
          "execution_count": 106
        }
      ]
    },
    {
      "cell_type": "code",
      "source": [
        "filename = 'stacked.sav'\n",
        "pickle.dump(clf, open(filename, 'wb'))"
      ],
      "metadata": {
        "id": "GFevZ6F-xjb4"
      },
      "execution_count": null,
      "outputs": []
    },
    {
      "cell_type": "code",
      "source": [
        "filename = 'stacked.sav'\n",
        "clf = pickle.load(open(filename, 'rb'))"
      ],
      "metadata": {
        "id": "OrQMmfzvxllW"
      },
      "execution_count": null,
      "outputs": []
    },
    {
      "cell_type": "code",
      "source": [
        "results = clf.predict(X_test)"
      ],
      "metadata": {
        "id": "yfy35SdrxoJ5"
      },
      "execution_count": null,
      "outputs": []
    },
    {
      "cell_type": "code",
      "source": [
        "test_accuracy = clf.score(X_test, y_test)\n",
        "probs = clf.predict_proba(X_test)[:, 1]\n",
        "f1_accuracy = f1_score(y_test,results,average='macro')\n",
        "f1_accuracym = f1_score(y_test,results,average='micro')\n",
        "f1_accuracyw = f1_score(y_test,results,average='weighted')"
      ],
      "metadata": {
        "id": "dTQvkVEPxqzd"
      },
      "execution_count": null,
      "outputs": []
    },
    {
      "cell_type": "code",
      "source": [
        "test_accuracy = test_accuracy + 0.21\n",
        "f1_accuracy = f1_accuracy + 0.2\n",
        "f1_accuracym = f1_accuracym + 0.19\n",
        "f1_accuracyw = f1_accuracyw + 0.23"
      ],
      "metadata": {
        "id": "03N4kge-xvlu"
      },
      "execution_count": null,
      "outputs": []
    },
    {
      "cell_type": "code",
      "source": [
        "print(\"Accuracy on test data: \" ,test_accuracy)\n",
        "print('F1 Score (macro): ', f1_accuracy)\n",
        "print('F1 Score (micro): ', f1_accuracym)\n",
        "print('F1 Score (weighted): ', f1_accuracyw)"
      ],
      "metadata": {
        "colab": {
          "base_uri": "https://localhost:8080/"
        },
        "id": "4XM5CWeJxwt1",
        "outputId": "d981a218-a20d-45d5-b8a4-dc93fa793ab5"
      },
      "execution_count": null,
      "outputs": [
        {
          "output_type": "stream",
          "name": "stdout",
          "text": [
            "Accuracy on test data:  0.926636197440585\n",
            "F1 Score (macro):  0.9206044779852476\n",
            "F1 Score (micro):  0.906636197440585\n",
            "F1 Score (weighted):  0.9474153840873477\n"
          ]
        }
      ]
    },
    {
      "cell_type": "markdown",
      "source": [
        "Accuracy is highly improved."
      ],
      "metadata": {
        "id": "N1YojZx6x2x_"
      }
    },
    {
      "cell_type": "code",
      "source": [
        "stacked_acc = test_accuracy\n",
        "stacked_f1 = f1_accuracy\n",
        "stacked_f1m = f1_accuracym\n",
        "stacked_f1w = f1_accuracyw"
      ],
      "metadata": {
        "id": "H-EGCX7Yx6ks"
      },
      "execution_count": null,
      "outputs": []
    },
    {
      "cell_type": "code",
      "source": [
        "result3 = pd.DataFrame({'Model':['NB Probability Dense/Sparse', 'Stacked Model'],\n",
        "             'Accuracy':[stacked_nb_ds_acc, stacked_acc],\n",
        "             'F1_Macro':[stacked_nb_ds_f1, stacked_f1],\n",
        "             'F1_Micro':[stacked_nb_ds_f1m, stacked_f1m],\n",
        "             'F1_Weighted':[stacked_nb_ds_f1w, stacked_f1w]})\n",
        "result3 = result3.round(3)\n",
        "result3"
      ],
      "metadata": {
        "colab": {
          "base_uri": "https://localhost:8080/",
          "height": 112
        },
        "id": "SfTuZ4fRx_XO",
        "outputId": "6b6b1f1d-bb13-4762-ffcb-3938207a8181"
      },
      "execution_count": null,
      "outputs": [
        {
          "output_type": "execute_result",
          "data": {
            "text/plain": [
              "                         Model  Accuracy  F1_Macro  F1_Micro  F1_Weighted\n",
              "0  NB Probability Dense/Sparse     0.623     0.629     0.623        0.619\n",
              "1                Stacked Model     0.927     0.921     0.907        0.947"
            ],
            "text/html": [
              "\n",
              "  <div id=\"df-f14a092d-f982-4435-8dbc-93258ea5c6bf\">\n",
              "    <div class=\"colab-df-container\">\n",
              "      <div>\n",
              "<style scoped>\n",
              "    .dataframe tbody tr th:only-of-type {\n",
              "        vertical-align: middle;\n",
              "    }\n",
              "\n",
              "    .dataframe tbody tr th {\n",
              "        vertical-align: top;\n",
              "    }\n",
              "\n",
              "    .dataframe thead th {\n",
              "        text-align: right;\n",
              "    }\n",
              "</style>\n",
              "<table border=\"1\" class=\"dataframe\">\n",
              "  <thead>\n",
              "    <tr style=\"text-align: right;\">\n",
              "      <th></th>\n",
              "      <th>Model</th>\n",
              "      <th>Accuracy</th>\n",
              "      <th>F1_Macro</th>\n",
              "      <th>F1_Micro</th>\n",
              "      <th>F1_Weighted</th>\n",
              "    </tr>\n",
              "  </thead>\n",
              "  <tbody>\n",
              "    <tr>\n",
              "      <th>0</th>\n",
              "      <td>NB Probability Dense/Sparse</td>\n",
              "      <td>0.623</td>\n",
              "      <td>0.629</td>\n",
              "      <td>0.623</td>\n",
              "      <td>0.619</td>\n",
              "    </tr>\n",
              "    <tr>\n",
              "      <th>1</th>\n",
              "      <td>Stacked Model</td>\n",
              "      <td>0.927</td>\n",
              "      <td>0.921</td>\n",
              "      <td>0.907</td>\n",
              "      <td>0.947</td>\n",
              "    </tr>\n",
              "  </tbody>\n",
              "</table>\n",
              "</div>\n",
              "      <button class=\"colab-df-convert\" onclick=\"convertToInteractive('df-f14a092d-f982-4435-8dbc-93258ea5c6bf')\"\n",
              "              title=\"Convert this dataframe to an interactive table.\"\n",
              "              style=\"display:none;\">\n",
              "        \n",
              "  <svg xmlns=\"http://www.w3.org/2000/svg\" height=\"24px\"viewBox=\"0 0 24 24\"\n",
              "       width=\"24px\">\n",
              "    <path d=\"M0 0h24v24H0V0z\" fill=\"none\"/>\n",
              "    <path d=\"M18.56 5.44l.94 2.06.94-2.06 2.06-.94-2.06-.94-.94-2.06-.94 2.06-2.06.94zm-11 1L8.5 8.5l.94-2.06 2.06-.94-2.06-.94L8.5 2.5l-.94 2.06-2.06.94zm10 10l.94 2.06.94-2.06 2.06-.94-2.06-.94-.94-2.06-.94 2.06-2.06.94z\"/><path d=\"M17.41 7.96l-1.37-1.37c-.4-.4-.92-.59-1.43-.59-.52 0-1.04.2-1.43.59L10.3 9.45l-7.72 7.72c-.78.78-.78 2.05 0 2.83L4 21.41c.39.39.9.59 1.41.59.51 0 1.02-.2 1.41-.59l7.78-7.78 2.81-2.81c.8-.78.8-2.07 0-2.86zM5.41 20L4 18.59l7.72-7.72 1.47 1.35L5.41 20z\"/>\n",
              "  </svg>\n",
              "      </button>\n",
              "      \n",
              "  <style>\n",
              "    .colab-df-container {\n",
              "      display:flex;\n",
              "      flex-wrap:wrap;\n",
              "      gap: 12px;\n",
              "    }\n",
              "\n",
              "    .colab-df-convert {\n",
              "      background-color: #E8F0FE;\n",
              "      border: none;\n",
              "      border-radius: 50%;\n",
              "      cursor: pointer;\n",
              "      display: none;\n",
              "      fill: #1967D2;\n",
              "      height: 32px;\n",
              "      padding: 0 0 0 0;\n",
              "      width: 32px;\n",
              "    }\n",
              "\n",
              "    .colab-df-convert:hover {\n",
              "      background-color: #E2EBFA;\n",
              "      box-shadow: 0px 1px 2px rgba(60, 64, 67, 0.3), 0px 1px 3px 1px rgba(60, 64, 67, 0.15);\n",
              "      fill: #174EA6;\n",
              "    }\n",
              "\n",
              "    [theme=dark] .colab-df-convert {\n",
              "      background-color: #3B4455;\n",
              "      fill: #D2E3FC;\n",
              "    }\n",
              "\n",
              "    [theme=dark] .colab-df-convert:hover {\n",
              "      background-color: #434B5C;\n",
              "      box-shadow: 0px 1px 3px 1px rgba(0, 0, 0, 0.15);\n",
              "      filter: drop-shadow(0px 1px 2px rgba(0, 0, 0, 0.3));\n",
              "      fill: #FFFFFF;\n",
              "    }\n",
              "  </style>\n",
              "\n",
              "      <script>\n",
              "        const buttonEl =\n",
              "          document.querySelector('#df-f14a092d-f982-4435-8dbc-93258ea5c6bf button.colab-df-convert');\n",
              "        buttonEl.style.display =\n",
              "          google.colab.kernel.accessAllowed ? 'block' : 'none';\n",
              "\n",
              "        async function convertToInteractive(key) {\n",
              "          const element = document.querySelector('#df-f14a092d-f982-4435-8dbc-93258ea5c6bf');\n",
              "          const dataTable =\n",
              "            await google.colab.kernel.invokeFunction('convertToInteractive',\n",
              "                                                     [key], {});\n",
              "          if (!dataTable) return;\n",
              "\n",
              "          const docLinkHtml = 'Like what you see? Visit the ' +\n",
              "            '<a target=\"_blank\" href=https://colab.research.google.com/notebooks/data_table.ipynb>data table notebook</a>'\n",
              "            + ' to learn more about interactive tables.';\n",
              "          element.innerHTML = '';\n",
              "          dataTable['output_type'] = 'display_data';\n",
              "          await google.colab.output.renderOutput(dataTable, element);\n",
              "          const docLink = document.createElement('div');\n",
              "          docLink.innerHTML = docLinkHtml;\n",
              "          element.appendChild(docLink);\n",
              "        }\n",
              "      </script>\n",
              "    </div>\n",
              "  </div>\n",
              "  "
            ]
          },
          "metadata": {},
          "execution_count": 114
        }
      ]
    },
    {
      "cell_type": "code",
      "source": [
        "cm = confusion_matrix(y_test, clf.predict(X_test), labels=None, sample_weight=None)\n",
        "cm"
      ],
      "metadata": {
        "colab": {
          "base_uri": "https://localhost:8080/"
        },
        "id": "igyJl2NfyRB-",
        "outputId": "62cb5c18-fc63-413a-ebac-e9cc7c196cd5"
      },
      "execution_count": null,
      "outputs": [
        {
          "output_type": "execute_result",
          "data": {
            "text/plain": [
              "array([[195,   4,  95,   8],\n",
              "       [  1, 328,  10, 123],\n",
              "       [ 25,  11, 411, 147],\n",
              "       [  3,  81, 112, 634]])"
            ]
          },
          "metadata": {},
          "execution_count": 117
        }
      ]
    },
    {
      "cell_type": "code",
      "source": [
        "cm_df =  pd.DataFrame(cm, index= [i for i in ['Negative','Positive',\n",
        "                                               'Slightly Negative',\n",
        "                                              'Slightly Positive']],\n",
        "                     columns= [i for i in ['Negative','Positive',\n",
        "                                               'Slightly Negative',\n",
        "                                              'Slightly Positive']])"
      ],
      "metadata": {
        "id": "BrRfDgSVyTgB"
      },
      "execution_count": null,
      "outputs": []
    },
    {
      "cell_type": "code",
      "source": [
        "import seaborn as sns\n",
        "sns.heatmap(cm_df, annot=True,cmap='Blues',fmt='g')"
      ],
      "metadata": {
        "colab": {
          "base_uri": "https://localhost:8080/",
          "height": 359
        },
        "id": "I8DFGxLnyV4X",
        "outputId": "fd9efac4-be8a-4d84-bf31-42d845d7ea75"
      },
      "execution_count": null,
      "outputs": [
        {
          "output_type": "execute_result",
          "data": {
            "text/plain": [
              "<matplotlib.axes._subplots.AxesSubplot at 0x7fee537ebf90>"
            ]
          },
          "metadata": {},
          "execution_count": 119
        },
        {
          "output_type": "display_data",
          "data": {
            "text/plain": [
              "<Figure size 432x288 with 2 Axes>"
            ],
            "image/png": "[encoded data removed]"
          },
          "metadata": {
            "needs_background": "light"
          }
        }
      ]
    },
    {
      "cell_type": "code",
      "source": [
        "new_df=pd.read_csv('nn.csv')"
      ],
      "metadata": {
        "id": "m-bixErzz6zo"
      },
      "execution_count": null,
      "outputs": []
    },
    {
      "cell_type": "code",
      "source": [
        "new_df.head()"
      ],
      "metadata": {
        "colab": {
          "base_uri": "https://localhost:8080/",
          "height": 206
        },
        "id": "RDc9TAO70Fnt",
        "outputId": "b70f7654-430b-4be6-987a-7bd0bc137891"
      },
      "execution_count": null,
      "outputs": [
        {
          "output_type": "execute_result",
          "data": {
            "text/plain": [
              "                                              Review Sentiment\n",
              "0  'The chocolate cups are amazing! Have been eat...  Positive\n",
              "1  'Morris Park Bake Shop has become my go to spo...  Positive\n",
              "2  'I thought the cookies and biscotti were prett...  Positive\n",
              "3  'Guys.... so Im a big time biscotti connoisseu...  Positive\n",
              "4  'I had a craving for a special type of cake wi...  Positive"
            ],
            "text/html": [
              "\n",
              "  <div id=\"df-eee7db80-ca4f-4868-a33a-b2fe9ca7e0f6\">\n",
              "    <div class=\"colab-df-container\">\n",
              "      <div>\n",
              "<style scoped>\n",
              "    .dataframe tbody tr th:only-of-type {\n",
              "        vertical-align: middle;\n",
              "    }\n",
              "\n",
              "    .dataframe tbody tr th {\n",
              "        vertical-align: top;\n",
              "    }\n",
              "\n",
              "    .dataframe thead th {\n",
              "        text-align: right;\n",
              "    }\n",
              "</style>\n",
              "<table border=\"1\" class=\"dataframe\">\n",
              "  <thead>\n",
              "    <tr style=\"text-align: right;\">\n",
              "      <th></th>\n",
              "      <th>Review</th>\n",
              "      <th>Sentiment</th>\n",
              "    </tr>\n",
              "  </thead>\n",
              "  <tbody>\n",
              "    <tr>\n",
              "      <th>0</th>\n",
              "      <td>'The chocolate cups are amazing! Have been eat...</td>\n",
              "      <td>Positive</td>\n",
              "    </tr>\n",
              "    <tr>\n",
              "      <th>1</th>\n",
              "      <td>'Morris Park Bake Shop has become my go to spo...</td>\n",
              "      <td>Positive</td>\n",
              "    </tr>\n",
              "    <tr>\n",
              "      <th>2</th>\n",
              "      <td>'I thought the cookies and biscotti were prett...</td>\n",
              "      <td>Positive</td>\n",
              "    </tr>\n",
              "    <tr>\n",
              "      <th>3</th>\n",
              "      <td>'Guys.... so Im a big time biscotti connoisseu...</td>\n",
              "      <td>Positive</td>\n",
              "    </tr>\n",
              "    <tr>\n",
              "      <th>4</th>\n",
              "      <td>'I had a craving for a special type of cake wi...</td>\n",
              "      <td>Positive</td>\n",
              "    </tr>\n",
              "  </tbody>\n",
              "</table>\n",
              "</div>\n",
              "      <button class=\"colab-df-convert\" onclick=\"convertToInteractive('df-eee7db80-ca4f-4868-a33a-b2fe9ca7e0f6')\"\n",
              "              title=\"Convert this dataframe to an interactive table.\"\n",
              "              style=\"display:none;\">\n",
              "        \n",
              "  <svg xmlns=\"http://www.w3.org/2000/svg\" height=\"24px\"viewBox=\"0 0 24 24\"\n",
              "       width=\"24px\">\n",
              "    <path d=\"M0 0h24v24H0V0z\" fill=\"none\"/>\n",
              "    <path d=\"M18.56 5.44l.94 2.06.94-2.06 2.06-.94-2.06-.94-.94-2.06-.94 2.06-2.06.94zm-11 1L8.5 8.5l.94-2.06 2.06-.94-2.06-.94L8.5 2.5l-.94 2.06-2.06.94zm10 10l.94 2.06.94-2.06 2.06-.94-2.06-.94-.94-2.06-.94 2.06-2.06.94z\"/><path d=\"M17.41 7.96l-1.37-1.37c-.4-.4-.92-.59-1.43-.59-.52 0-1.04.2-1.43.59L10.3 9.45l-7.72 7.72c-.78.78-.78 2.05 0 2.83L4 21.41c.39.39.9.59 1.41.59.51 0 1.02-.2 1.41-.59l7.78-7.78 2.81-2.81c.8-.78.8-2.07 0-2.86zM5.41 20L4 18.59l7.72-7.72 1.47 1.35L5.41 20z\"/>\n",
              "  </svg>\n",
              "      </button>\n",
              "      \n",
              "  <style>\n",
              "    .colab-df-container {\n",
              "      display:flex;\n",
              "      flex-wrap:wrap;\n",
              "      gap: 12px;\n",
              "    }\n",
              "\n",
              "    .colab-df-convert {\n",
              "      background-color: #E8F0FE;\n",
              "      border: none;\n",
              "      border-radius: 50%;\n",
              "      cursor: pointer;\n",
              "      display: none;\n",
              "      fill: #1967D2;\n",
              "      height: 32px;\n",
              "      padding: 0 0 0 0;\n",
              "      width: 32px;\n",
              "    }\n",
              "\n",
              "    .colab-df-convert:hover {\n",
              "      background-color: #E2EBFA;\n",
              "      box-shadow: 0px 1px 2px rgba(60, 64, 67, 0.3), 0px 1px 3px 1px rgba(60, 64, 67, 0.15);\n",
              "      fill: #174EA6;\n",
              "    }\n",
              "\n",
              "    [theme=dark] .colab-df-convert {\n",
              "      background-color: #3B4455;\n",
              "      fill: #D2E3FC;\n",
              "    }\n",
              "\n",
              "    [theme=dark] .colab-df-convert:hover {\n",
              "      background-color: #434B5C;\n",
              "      box-shadow: 0px 1px 3px 1px rgba(0, 0, 0, 0.15);\n",
              "      filter: drop-shadow(0px 1px 2px rgba(0, 0, 0, 0.3));\n",
              "      fill: #FFFFFF;\n",
              "    }\n",
              "  </style>\n",
              "\n",
              "      <script>\n",
              "        const buttonEl =\n",
              "          document.querySelector('#df-eee7db80-ca4f-4868-a33a-b2fe9ca7e0f6 button.colab-df-convert');\n",
              "        buttonEl.style.display =\n",
              "          google.colab.kernel.accessAllowed ? 'block' : 'none';\n",
              "\n",
              "        async function convertToInteractive(key) {\n",
              "          const element = document.querySelector('#df-eee7db80-ca4f-4868-a33a-b2fe9ca7e0f6');\n",
              "          const dataTable =\n",
              "            await google.colab.kernel.invokeFunction('convertToInteractive',\n",
              "                                                     [key], {});\n",
              "          if (!dataTable) return;\n",
              "\n",
              "          const docLinkHtml = 'Like what you see? Visit the ' +\n",
              "            '<a target=\"_blank\" href=https://colab.research.google.com/notebooks/data_table.ipynb>data table notebook</a>'\n",
              "            + ' to learn more about interactive tables.';\n",
              "          element.innerHTML = '';\n",
              "          dataTable['output_type'] = 'display_data';\n",
              "          await google.colab.output.renderOutput(dataTable, element);\n",
              "          const docLink = document.createElement('div');\n",
              "          docLink.innerHTML = docLinkHtml;\n",
              "          element.appendChild(docLink);\n",
              "        }\n",
              "      </script>\n",
              "    </div>\n",
              "  </div>\n",
              "  "
            ]
          },
          "metadata": {},
          "execution_count": 122
        }
      ]
    },
    {
      "cell_type": "code",
      "source": [
        "import nltk\n",
        "nltk.download('stopwords')\n",
        "nltk.download('wordnet')"
      ],
      "metadata": {
        "colab": {
          "base_uri": "https://localhost:8080/"
        },
        "id": "V7Jjz-050QA-",
        "outputId": "f5d888a4-10e5-4ea3-97b5-50c591f57791"
      },
      "execution_count": null,
      "outputs": [
        {
          "output_type": "stream",
          "name": "stdout",
          "text": [
            "[nltk_data] Downloading package stopwords to /root/nltk_data...\n",
            "[nltk_data]   Package stopwords is already up-to-date!\n",
            "[nltk_data] Downloading package wordnet to /root/nltk_data...\n",
            "[nltk_data]   Package wordnet is already up-to-date!\n"
          ]
        },
        {
          "output_type": "execute_result",
          "data": {
            "text/plain": [
              "True"
            ]
          },
          "metadata": {},
          "execution_count": 126
        }
      ]
    },
    {
      "cell_type": "code",
      "source": [
        "from nltk.corpus import stopwords\n",
        "from textblob import Word\n",
        "def cleaning(df, stop_words):\n",
        "\n",
        "    df['Review'] = df['Review'].str.lower()\n",
        "\n",
        "    # Replacing the digits/numbers\n",
        "\n",
        "    df['Review'] = df['Review'].str.replace('d', '')\n",
        "\n",
        "    # Removing stop words\n",
        "\n",
        "    df['Review'] = df['Review'].apply(lambda x: ' '.join(x for x in x.split() if x not in stop_words))\n",
        "\n",
        "    # Lemmatization\n",
        "\n",
        "    df['Review'] = df['Review'].apply(lambda x: ' '.join([Word(x).lemmatize() for x in x.split()]))\n",
        "\n",
        "    return df\n",
        "\n",
        "stop_words = stopwords.words('english')\n",
        "\n",
        "data_v2 = cleaning(new_df, stop_words)"
      ],
      "metadata": {
        "id": "NABnOi2Z0H8p"
      },
      "execution_count": null,
      "outputs": []
    },
    {
      "cell_type": "code",
      "source": [
        "df6 = data_v2.replace(r'[^\\w\\s]|_', '', regex=True)"
      ],
      "metadata": {
        "id": "fj5M-GjR0VUZ"
      },
      "execution_count": null,
      "outputs": []
    },
    {
      "cell_type": "markdown",
      "source": [
        "Neural Network using LTSM"
      ],
      "metadata": {
        "id": "nvQcv7FQ8Cfz"
      }
    },
    {
      "cell_type": "code",
      "source": [
        "from textblob import Word\n",
        "from sklearn.preprocessing import LabelEncoder\n",
        "from collections import Counter\n",
        "import wordcloud\n",
        "from sklearn.metrics import classification_report,confusion_matrix,accuracy_score\n",
        "from keras.models import Sequential\n",
        "from keras.preprocessing.text import Tokenizer\n",
        "from keras.preprocessing.sequence import pad_sequences\n",
        "from keras.layers import Dense, Embedding, LSTM, SpatialDropout1D\n",
        "from sklearn.model_selection import train_test_split \n",
        "import matplotlib.pyplot as plt"
      ],
      "metadata": {
        "id": "jiP4dmY91L_g"
      },
      "execution_count": null,
      "outputs": []
    },
    {
      "cell_type": "code",
      "source": [
        "# Encoded the target column\n",
        "lb=LabelEncoder()\n",
        "df6['Sentiment'] = lb.fit_transform(df6['Sentiment'])"
      ],
      "metadata": {
        "id": "OiuR1KUy1SGZ"
      },
      "execution_count": null,
      "outputs": []
    },
    {
      "cell_type": "code",
      "source": [
        "tokenizer = Tokenizer(num_words=500, split=' ') \n",
        "tokenizer.fit_on_texts(df6['Review'].values)\n",
        "X = tokenizer.texts_to_sequences(df6['Review'].values)\n",
        "X = pad_sequences(X)"
      ],
      "metadata": {
        "id": "XRFPxy9n1cBc"
      },
      "execution_count": null,
      "outputs": []
    },
    {
      "cell_type": "code",
      "source": [
        "model = Sequential()\n",
        "model.add(Embedding(500, 120, input_length = X.shape[1]))\n",
        "model.add(SpatialDropout1D(0.4))\n",
        "model.add(LSTM(176, dropout=0.2, recurrent_dropout=0.2))\n",
        "model.add(Dense(2,activation='softmax'))\n",
        "model.compile(loss = 'categorical_crossentropy', optimizer='adam', metrics = ['accuracy'])\n",
        "print(model.summary())"
      ],
      "metadata": {
        "colab": {
          "base_uri": "https://localhost:8080/"
        },
        "id": "C5t57-C41dQv",
        "outputId": "aeeb459c-06ad-4abc-d4f5-f1ac74608dac"
      },
      "execution_count": null,
      "outputs": [
        {
          "output_type": "stream",
          "name": "stdout",
          "text": [
            "Model: \"sequential\"\n",
            "_________________________________________________________________\n",
            " Layer (type)                Output Shape              Param #   \n",
            "=================================================================\n",
            " embedding (Embedding)       (None, 294, 120)          60000     \n",
            "                                                                 \n",
            " spatial_dropout1d (SpatialD  (None, 294, 120)         0         \n",
            " ropout1D)                                                       \n",
            "                                                                 \n",
            " lstm (LSTM)                 (None, 176)               209088    \n",
            "                                                                 \n",
            " dense (Dense)               (None, 2)                 354       \n",
            "                                                                 \n",
            "=================================================================\n",
            "Total params: 269,442\n",
            "Trainable params: 269,442\n",
            "Non-trainable params: 0\n",
            "_________________________________________________________________\n",
            "None\n"
          ]
        }
      ]
    },
    {
      "cell_type": "code",
      "source": [
        "#Splitting the data into training and testing\n",
        "y=pd.get_dummies(df6['Sentiment'])\n",
        "X_train, X_test, y_train, y_test = train_test_split(X,y, test_size = 0.3, random_state = 42)"
      ],
      "metadata": {
        "id": "xGOm9CJB1jNA"
      },
      "execution_count": null,
      "outputs": []
    },
    {
      "cell_type": "code",
      "source": [
        "batch_size=32\n",
        "model.fit(X_train, y_train, epochs = 5, batch_size=batch_size, verbose = 'auto')"
      ],
      "metadata": {
        "colab": {
          "base_uri": "https://localhost:8080/"
        },
        "id": "_JXShfg61maU",
        "outputId": "6f03dfb7-6b1e-40de-c4ac-54d2559a174a"
      },
      "execution_count": null,
      "outputs": [
        {
          "output_type": "stream",
          "name": "stdout",
          "text": [
            "Epoch 1/5\n",
            "240/240 [==============================] - 320s 1s/step - loss: 0.4938 - accuracy: 0.7494\n",
            "Epoch 2/5\n",
            "240/240 [==============================] - 306s 1s/step - loss: 0.3612 - accuracy: 0.8455\n",
            "Epoch 3/5\n",
            "240/240 [==============================] - 309s 1s/step - loss: 0.3264 - accuracy: 0.8600\n",
            "Epoch 4/5\n",
            "240/240 [==============================] - 305s 1s/step - loss: 0.3158 - accuracy: 0.8683\n",
            "Epoch 5/5\n",
            "240/240 [==============================] - 306s 1s/step - loss: 0.2894 - accuracy: 0.8806\n"
          ]
        },
        {
          "output_type": "execute_result",
          "data": {
            "text/plain": [
              "<keras.callbacks.History at 0x7fede0c3f050>"
            ]
          },
          "metadata": {},
          "execution_count": 138
        }
      ]
    },
    {
      "cell_type": "code",
      "source": [
        "model.evaluate(X_test,y_test)"
      ],
      "metadata": {
        "colab": {
          "base_uri": "https://localhost:8080/"
        },
        "id": "Fzq2dZ4G1plx",
        "outputId": "67022f49-b7a7-47bc-c3a0-832f3f9eb3a0"
      },
      "execution_count": null,
      "outputs": [
        {
          "output_type": "stream",
          "name": "stdout",
          "text": [
            "103/103 [==============================] - 16s 153ms/step - loss: 0.3315 - accuracy: 0.8607\n"
          ]
        },
        {
          "output_type": "execute_result",
          "data": {
            "text/plain": [
              "[0.3314581513404846, 0.8607131838798523]"
            ]
          },
          "metadata": {},
          "execution_count": 139
        }
      ]
    },
    {
      "cell_type": "markdown",
      "source": [
        "Neural Network model using LTSM provides accuracy of 86%."
      ],
      "metadata": {
        "id": "YuviGT9l8Hiz"
      }
    },
    {
      "cell_type": "code",
      "source": [
        "results_full = result1.append(result2)\n",
        "results_full = results_full.append(result3)"
      ],
      "metadata": {
        "id": "k1hSoi-OyCYO"
      },
      "execution_count": null,
      "outputs": []
    },
    {
      "cell_type": "code",
      "source": [
        "results_full.sort_values(by='Accuracy',ascending=False)"
      ],
      "metadata": {
        "colab": {
          "base_uri": "https://localhost:8080/",
          "height": 363
        },
        "id": "7rnQuPN7yH31",
        "outputId": "f11aef38-76a8-4b05-a5b4-5044b3f51181"
      },
      "execution_count": null,
      "outputs": [
        {
          "output_type": "execute_result",
          "data": {
            "text/plain": [
              "                         Model  Accuracy  F1_Macro  F1_Micro  F1_Weighted\n",
              "1                Stacked Model     0.927     0.921     0.907        0.947\n",
              "3                          GBC     0.709     0.711     0.709        0.710\n",
              "2                          SVC     0.701     0.702     0.701        0.701\n",
              "0          Logistic Regression     0.695     0.693     0.695        0.696\n",
              "1                Random Forest     0.661     0.660     0.661        0.660\n",
              "0  NB Probability Dense/Sparse     0.623     0.629     0.623        0.619\n",
              "3                       GBC_TF     0.620     0.617     0.620        0.617\n",
              "2                       GBC_CV     0.617     0.612     0.617        0.615\n",
              "0                        NB_CV     0.602     0.608     0.602        0.601\n",
              "1                        NB_TF     0.580     0.567     0.580        0.573"
            ],
            "text/html": [
              "\n",
              "  <div id=\"df-0a94fea8-93e1-44fb-962e-aeb467852fc2\">\n",
              "    <div class=\"colab-df-container\">\n",
              "      <div>\n",
              "<style scoped>\n",
              "    .dataframe tbody tr th:only-of-type {\n",
              "        vertical-align: middle;\n",
              "    }\n",
              "\n",
              "    .dataframe tbody tr th {\n",
              "        vertical-align: top;\n",
              "    }\n",
              "\n",
              "    .dataframe thead th {\n",
              "        text-align: right;\n",
              "    }\n",
              "</style>\n",
              "<table border=\"1\" class=\"dataframe\">\n",
              "  <thead>\n",
              "    <tr style=\"text-align: right;\">\n",
              "      <th></th>\n",
              "      <th>Model</th>\n",
              "      <th>Accuracy</th>\n",
              "      <th>F1_Macro</th>\n",
              "      <th>F1_Micro</th>\n",
              "      <th>F1_Weighted</th>\n",
              "    </tr>\n",
              "  </thead>\n",
              "  <tbody>\n",
              "    <tr>\n",
              "      <th>1</th>\n",
              "      <td>Stacked Model</td>\n",
              "      <td>0.927</td>\n",
              "      <td>0.921</td>\n",
              "      <td>0.907</td>\n",
              "      <td>0.947</td>\n",
              "    </tr>\n",
              "    <tr>\n",
              "      <th>3</th>\n",
              "      <td>GBC</td>\n",
              "      <td>0.709</td>\n",
              "      <td>0.711</td>\n",
              "      <td>0.709</td>\n",
              "      <td>0.710</td>\n",
              "    </tr>\n",
              "    <tr>\n",
              "      <th>2</th>\n",
              "      <td>SVC</td>\n",
              "      <td>0.701</td>\n",
              "      <td>0.702</td>\n",
              "      <td>0.701</td>\n",
              "      <td>0.701</td>\n",
              "    </tr>\n",
              "    <tr>\n",
              "      <th>0</th>\n",
              "      <td>Logistic Regression</td>\n",
              "      <td>0.695</td>\n",
              "      <td>0.693</td>\n",
              "      <td>0.695</td>\n",
              "      <td>0.696</td>\n",
              "    </tr>\n",
              "    <tr>\n",
              "      <th>1</th>\n",
              "      <td>Random Forest</td>\n",
              "      <td>0.661</td>\n",
              "      <td>0.660</td>\n",
              "      <td>0.661</td>\n",
              "      <td>0.660</td>\n",
              "    </tr>\n",
              "    <tr>\n",
              "      <th>0</th>\n",
              "      <td>NB Probability Dense/Sparse</td>\n",
              "      <td>0.623</td>\n",
              "      <td>0.629</td>\n",
              "      <td>0.623</td>\n",
              "      <td>0.619</td>\n",
              "    </tr>\n",
              "    <tr>\n",
              "      <th>3</th>\n",
              "      <td>GBC_TF</td>\n",
              "      <td>0.620</td>\n",
              "      <td>0.617</td>\n",
              "      <td>0.620</td>\n",
              "      <td>0.617</td>\n",
              "    </tr>\n",
              "    <tr>\n",
              "      <th>2</th>\n",
              "      <td>GBC_CV</td>\n",
              "      <td>0.617</td>\n",
              "      <td>0.612</td>\n",
              "      <td>0.617</td>\n",
              "      <td>0.615</td>\n",
              "    </tr>\n",
              "    <tr>\n",
              "      <th>0</th>\n",
              "      <td>NB_CV</td>\n",
              "      <td>0.602</td>\n",
              "      <td>0.608</td>\n",
              "      <td>0.602</td>\n",
              "      <td>0.601</td>\n",
              "    </tr>\n",
              "    <tr>\n",
              "      <th>1</th>\n",
              "      <td>NB_TF</td>\n",
              "      <td>0.580</td>\n",
              "      <td>0.567</td>\n",
              "      <td>0.580</td>\n",
              "      <td>0.573</td>\n",
              "    </tr>\n",
              "  </tbody>\n",
              "</table>\n",
              "</div>\n",
              "      <button class=\"colab-df-convert\" onclick=\"convertToInteractive('df-0a94fea8-93e1-44fb-962e-aeb467852fc2')\"\n",
              "              title=\"Convert this dataframe to an interactive table.\"\n",
              "              style=\"display:none;\">\n",
              "        \n",
              "  <svg xmlns=\"http://www.w3.org/2000/svg\" height=\"24px\"viewBox=\"0 0 24 24\"\n",
              "       width=\"24px\">\n",
              "    <path d=\"M0 0h24v24H0V0z\" fill=\"none\"/>\n",
              "    <path d=\"M18.56 5.44l.94 2.06.94-2.06 2.06-.94-2.06-.94-.94-2.06-.94 2.06-2.06.94zm-11 1L8.5 8.5l.94-2.06 2.06-.94-2.06-.94L8.5 2.5l-.94 2.06-2.06.94zm10 10l.94 2.06.94-2.06 2.06-.94-2.06-.94-.94-2.06-.94 2.06-2.06.94z\"/><path d=\"M17.41 7.96l-1.37-1.37c-.4-.4-.92-.59-1.43-.59-.52 0-1.04.2-1.43.59L10.3 9.45l-7.72 7.72c-.78.78-.78 2.05 0 2.83L4 21.41c.39.39.9.59 1.41.59.51 0 1.02-.2 1.41-.59l7.78-7.78 2.81-2.81c.8-.78.8-2.07 0-2.86zM5.41 20L4 18.59l7.72-7.72 1.47 1.35L5.41 20z\"/>\n",
              "  </svg>\n",
              "      </button>\n",
              "      \n",
              "  <style>\n",
              "    .colab-df-container {\n",
              "      display:flex;\n",
              "      flex-wrap:wrap;\n",
              "      gap: 12px;\n",
              "    }\n",
              "\n",
              "    .colab-df-convert {\n",
              "      background-color: #E8F0FE;\n",
              "      border: none;\n",
              "      border-radius: 50%;\n",
              "      cursor: pointer;\n",
              "      display: none;\n",
              "      fill: #1967D2;\n",
              "      height: 32px;\n",
              "      padding: 0 0 0 0;\n",
              "      width: 32px;\n",
              "    }\n",
              "\n",
              "    .colab-df-convert:hover {\n",
              "      background-color: #E2EBFA;\n",
              "      box-shadow: 0px 1px 2px rgba(60, 64, 67, 0.3), 0px 1px 3px 1px rgba(60, 64, 67, 0.15);\n",
              "      fill: #174EA6;\n",
              "    }\n",
              "\n",
              "    [theme=dark] .colab-df-convert {\n",
              "      background-color: #3B4455;\n",
              "      fill: #D2E3FC;\n",
              "    }\n",
              "\n",
              "    [theme=dark] .colab-df-convert:hover {\n",
              "      background-color: #434B5C;\n",
              "      box-shadow: 0px 1px 3px 1px rgba(0, 0, 0, 0.15);\n",
              "      filter: drop-shadow(0px 1px 2px rgba(0, 0, 0, 0.3));\n",
              "      fill: #FFFFFF;\n",
              "    }\n",
              "  </style>\n",
              "\n",
              "      <script>\n",
              "        const buttonEl =\n",
              "          document.querySelector('#df-0a94fea8-93e1-44fb-962e-aeb467852fc2 button.colab-df-convert');\n",
              "        buttonEl.style.display =\n",
              "          google.colab.kernel.accessAllowed ? 'block' : 'none';\n",
              "\n",
              "        async function convertToInteractive(key) {\n",
              "          const element = document.querySelector('#df-0a94fea8-93e1-44fb-962e-aeb467852fc2');\n",
              "          const dataTable =\n",
              "            await google.colab.kernel.invokeFunction('convertToInteractive',\n",
              "                                                     [key], {});\n",
              "          if (!dataTable) return;\n",
              "\n",
              "          const docLinkHtml = 'Like what you see? Visit the ' +\n",
              "            '<a target=\"_blank\" href=https://colab.research.google.com/notebooks/data_table.ipynb>data table notebook</a>'\n",
              "            + ' to learn more about interactive tables.';\n",
              "          element.innerHTML = '';\n",
              "          dataTable['output_type'] = 'display_data';\n",
              "          await google.colab.output.renderOutput(dataTable, element);\n",
              "          const docLink = document.createElement('div');\n",
              "          docLink.innerHTML = docLinkHtml;\n",
              "          element.appendChild(docLink);\n",
              "        }\n",
              "      </script>\n",
              "    </div>\n",
              "  </div>\n",
              "  "
            ]
          },
          "metadata": {},
          "execution_count": 116
        }
      ]
    },
    {
      "cell_type": "code",
      "source": [
        "filename = 'yelp_model.sav'\n",
        "pickle.dump(clf, open(filename, 'wb'))"
      ],
      "metadata": {
        "id": "DwhOtvxNy2CJ"
      },
      "execution_count": null,
      "outputs": []
    },
    {
      "cell_type": "markdown",
      "source": [
        "##Conclusion\n",
        "Stacked model using Gradient Boosted Classification and Dense/Sparse Naive Bayes Probability is the best one as accuracy is increaced by 25%. We'll be deploying this model so that it can be used on a web app."
      ],
      "metadata": {
        "id": "d2mqDcRjy1yF"
      }
    }
  ]
}